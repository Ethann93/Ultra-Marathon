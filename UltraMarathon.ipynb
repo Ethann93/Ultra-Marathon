{
 "cells": [
  {
   "cell_type": "code",
   "execution_count": 2,
   "id": "bde58de1",
   "metadata": {},
   "outputs": [],
   "source": [
    "import pandas as pd\n",
    "import numpy as np\n",
    "import seaborn as sns\n",
    "import matplotlib.pyplot as plt\n",
    "from datetime import datetime"
   ]
  },
  {
   "cell_type": "code",
   "execution_count": 3,
   "id": "cac41c68",
   "metadata": {},
   "outputs": [
    {
     "name": "stderr",
     "output_type": "stream",
     "text": [
      "<ipython-input-3-392f2b8edf63>:1: DtypeWarning: Columns (11) have mixed types. Specify dtype option on import or set low_memory=False.\n",
      "  df = pd.read_csv('TWO_CENTURIES_OF_UM_RACES.csv')\n"
     ]
    }
   ],
   "source": [
    "df = pd.read_csv('TWO_CENTURIES_OF_UM_RACES.csv')"
   ]
  },
  {
   "cell_type": "markdown",
   "id": "c3df5e16",
   "metadata": {},
   "source": [
    "# Explore the data"
   ]
  },
  {
   "cell_type": "code",
   "execution_count": 4,
   "id": "6067d231",
   "metadata": {
    "scrolled": true
   },
   "outputs": [
    {
     "data": {
      "text/html": [
       "<div>\n",
       "<style scoped>\n",
       "    .dataframe tbody tr th:only-of-type {\n",
       "        vertical-align: middle;\n",
       "    }\n",
       "\n",
       "    .dataframe tbody tr th {\n",
       "        vertical-align: top;\n",
       "    }\n",
       "\n",
       "    .dataframe thead th {\n",
       "        text-align: right;\n",
       "    }\n",
       "</style>\n",
       "<table border=\"1\" class=\"dataframe\">\n",
       "  <thead>\n",
       "    <tr style=\"text-align: right;\">\n",
       "      <th></th>\n",
       "      <th>Year of event</th>\n",
       "      <th>Event dates</th>\n",
       "      <th>Event name</th>\n",
       "      <th>Event distance/length</th>\n",
       "      <th>Event number of finishers</th>\n",
       "      <th>Athlete performance</th>\n",
       "      <th>Athlete club</th>\n",
       "      <th>Athlete country</th>\n",
       "      <th>Athlete year of birth</th>\n",
       "      <th>Athlete gender</th>\n",
       "      <th>Athlete age category</th>\n",
       "      <th>Athlete average speed</th>\n",
       "      <th>Athlete ID</th>\n",
       "    </tr>\n",
       "  </thead>\n",
       "  <tbody>\n",
       "    <tr>\n",
       "      <th>0</th>\n",
       "      <td>2018</td>\n",
       "      <td>06.01.2018</td>\n",
       "      <td>Selva Costera (CHI)</td>\n",
       "      <td>50km</td>\n",
       "      <td>22</td>\n",
       "      <td>4:51:39 h</td>\n",
       "      <td>Tnfrc</td>\n",
       "      <td>CHI</td>\n",
       "      <td>1978.0</td>\n",
       "      <td>M</td>\n",
       "      <td>M35</td>\n",
       "      <td>10.286</td>\n",
       "      <td>0</td>\n",
       "    </tr>\n",
       "    <tr>\n",
       "      <th>1</th>\n",
       "      <td>2018</td>\n",
       "      <td>06.01.2018</td>\n",
       "      <td>Selva Costera (CHI)</td>\n",
       "      <td>50km</td>\n",
       "      <td>22</td>\n",
       "      <td>5:15:45 h</td>\n",
       "      <td>Roberto Echeverría</td>\n",
       "      <td>CHI</td>\n",
       "      <td>1981.0</td>\n",
       "      <td>M</td>\n",
       "      <td>M35</td>\n",
       "      <td>9.501</td>\n",
       "      <td>1</td>\n",
       "    </tr>\n",
       "    <tr>\n",
       "      <th>2</th>\n",
       "      <td>2018</td>\n",
       "      <td>06.01.2018</td>\n",
       "      <td>Selva Costera (CHI)</td>\n",
       "      <td>50km</td>\n",
       "      <td>22</td>\n",
       "      <td>5:16:44 h</td>\n",
       "      <td>Puro Trail Osorno</td>\n",
       "      <td>CHI</td>\n",
       "      <td>1987.0</td>\n",
       "      <td>M</td>\n",
       "      <td>M23</td>\n",
       "      <td>9.472</td>\n",
       "      <td>2</td>\n",
       "    </tr>\n",
       "    <tr>\n",
       "      <th>3</th>\n",
       "      <td>2018</td>\n",
       "      <td>06.01.2018</td>\n",
       "      <td>Selva Costera (CHI)</td>\n",
       "      <td>50km</td>\n",
       "      <td>22</td>\n",
       "      <td>5:34:13 h</td>\n",
       "      <td>Columbia</td>\n",
       "      <td>ARG</td>\n",
       "      <td>1976.0</td>\n",
       "      <td>M</td>\n",
       "      <td>M40</td>\n",
       "      <td>8.976</td>\n",
       "      <td>3</td>\n",
       "    </tr>\n",
       "    <tr>\n",
       "      <th>4</th>\n",
       "      <td>2018</td>\n",
       "      <td>06.01.2018</td>\n",
       "      <td>Selva Costera (CHI)</td>\n",
       "      <td>50km</td>\n",
       "      <td>22</td>\n",
       "      <td>5:54:14 h</td>\n",
       "      <td>Baguales Trail</td>\n",
       "      <td>CHI</td>\n",
       "      <td>1992.0</td>\n",
       "      <td>M</td>\n",
       "      <td>M23</td>\n",
       "      <td>8.469</td>\n",
       "      <td>4</td>\n",
       "    </tr>\n",
       "  </tbody>\n",
       "</table>\n",
       "</div>"
      ],
      "text/plain": [
       "   Year of event Event dates           Event name Event distance/length  \\\n",
       "0           2018  06.01.2018  Selva Costera (CHI)                  50km   \n",
       "1           2018  06.01.2018  Selva Costera (CHI)                  50km   \n",
       "2           2018  06.01.2018  Selva Costera (CHI)                  50km   \n",
       "3           2018  06.01.2018  Selva Costera (CHI)                  50km   \n",
       "4           2018  06.01.2018  Selva Costera (CHI)                  50km   \n",
       "\n",
       "   Event number of finishers Athlete performance        Athlete club  \\\n",
       "0                         22           4:51:39 h               Tnfrc   \n",
       "1                         22           5:15:45 h  Roberto Echeverría   \n",
       "2                         22           5:16:44 h   Puro Trail Osorno   \n",
       "3                         22           5:34:13 h            Columbia   \n",
       "4                         22           5:54:14 h      Baguales Trail   \n",
       "\n",
       "  Athlete country  Athlete year of birth Athlete gender Athlete age category  \\\n",
       "0             CHI                 1978.0              M                  M35   \n",
       "1             CHI                 1981.0              M                  M35   \n",
       "2             CHI                 1987.0              M                  M23   \n",
       "3             ARG                 1976.0              M                  M40   \n",
       "4             CHI                 1992.0              M                  M23   \n",
       "\n",
       "  Athlete average speed  Athlete ID  \n",
       "0                10.286           0  \n",
       "1                 9.501           1  \n",
       "2                 9.472           2  \n",
       "3                 8.976           3  \n",
       "4                 8.469           4  "
      ]
     },
     "execution_count": 4,
     "metadata": {},
     "output_type": "execute_result"
    }
   ],
   "source": [
    "df.head()"
   ]
  },
  {
   "cell_type": "code",
   "execution_count": 5,
   "id": "30cb8749",
   "metadata": {},
   "outputs": [
    {
     "data": {
      "text/plain": [
       "(7461195, 13)"
      ]
     },
     "execution_count": 5,
     "metadata": {},
     "output_type": "execute_result"
    }
   ],
   "source": [
    "df.shape"
   ]
  },
  {
   "cell_type": "code",
   "execution_count": 6,
   "id": "8514c3bb",
   "metadata": {},
   "outputs": [
    {
     "data": {
      "text/plain": [
       "Year of event                  int64\n",
       "Event dates                   object\n",
       "Event name                    object\n",
       "Event distance/length         object\n",
       "Event number of finishers      int64\n",
       "Athlete performance           object\n",
       "Athlete club                  object\n",
       "Athlete country               object\n",
       "Athlete year of birth        float64\n",
       "Athlete gender                object\n",
       "Athlete age category          object\n",
       "Athlete average speed         object\n",
       "Athlete ID                     int64\n",
       "dtype: object"
      ]
     },
     "execution_count": 6,
     "metadata": {},
     "output_type": "execute_result"
    }
   ],
   "source": [
    "df.dtypes"
   ]
  },
  {
   "cell_type": "code",
   "execution_count": 7,
   "id": "05c951fa",
   "metadata": {},
   "outputs": [
    {
     "data": {
      "text/html": [
       "<div>\n",
       "<style scoped>\n",
       "    .dataframe tbody tr th:only-of-type {\n",
       "        vertical-align: middle;\n",
       "    }\n",
       "\n",
       "    .dataframe tbody tr th {\n",
       "        vertical-align: top;\n",
       "    }\n",
       "\n",
       "    .dataframe thead th {\n",
       "        text-align: right;\n",
       "    }\n",
       "</style>\n",
       "<table border=\"1\" class=\"dataframe\">\n",
       "  <thead>\n",
       "    <tr style=\"text-align: right;\">\n",
       "      <th></th>\n",
       "      <th>Year of event</th>\n",
       "      <th>Event number of finishers</th>\n",
       "      <th>Athlete year of birth</th>\n",
       "      <th>Athlete ID</th>\n",
       "    </tr>\n",
       "  </thead>\n",
       "  <tbody>\n",
       "    <tr>\n",
       "      <th>count</th>\n",
       "      <td>7.461195e+06</td>\n",
       "      <td>7.461195e+06</td>\n",
       "      <td>6.873034e+06</td>\n",
       "      <td>7.461195e+06</td>\n",
       "    </tr>\n",
       "    <tr>\n",
       "      <th>mean</th>\n",
       "      <td>2.011983e+03</td>\n",
       "      <td>1.451969e+03</td>\n",
       "      <td>1.969762e+03</td>\n",
       "      <td>5.536261e+05</td>\n",
       "    </tr>\n",
       "    <tr>\n",
       "      <th>std</th>\n",
       "      <td>1.000844e+01</td>\n",
       "      <td>3.124784e+03</td>\n",
       "      <td>1.312560e+01</td>\n",
       "      <td>4.801613e+05</td>\n",
       "    </tr>\n",
       "    <tr>\n",
       "      <th>min</th>\n",
       "      <td>1.798000e+03</td>\n",
       "      <td>0.000000e+00</td>\n",
       "      <td>1.193000e+03</td>\n",
       "      <td>0.000000e+00</td>\n",
       "    </tr>\n",
       "    <tr>\n",
       "      <th>25%</th>\n",
       "      <td>2.010000e+03</td>\n",
       "      <td>8.800000e+01</td>\n",
       "      <td>1.962000e+03</td>\n",
       "      <td>1.357120e+05</td>\n",
       "    </tr>\n",
       "    <tr>\n",
       "      <th>50%</th>\n",
       "      <td>2.015000e+03</td>\n",
       "      <td>2.350000e+02</td>\n",
       "      <td>1.971000e+03</td>\n",
       "      <td>3.944680e+05</td>\n",
       "    </tr>\n",
       "    <tr>\n",
       "      <th>75%</th>\n",
       "      <td>2.018000e+03</td>\n",
       "      <td>8.670000e+02</td>\n",
       "      <td>1.979000e+03</td>\n",
       "      <td>1.037699e+06</td>\n",
       "    </tr>\n",
       "    <tr>\n",
       "      <th>max</th>\n",
       "      <td>2.022000e+03</td>\n",
       "      <td>2.002700e+04</td>\n",
       "      <td>2.021000e+03</td>\n",
       "      <td>1.641167e+06</td>\n",
       "    </tr>\n",
       "  </tbody>\n",
       "</table>\n",
       "</div>"
      ],
      "text/plain": [
       "       Year of event  Event number of finishers  Athlete year of birth  \\\n",
       "count   7.461195e+06               7.461195e+06           6.873034e+06   \n",
       "mean    2.011983e+03               1.451969e+03           1.969762e+03   \n",
       "std     1.000844e+01               3.124784e+03           1.312560e+01   \n",
       "min     1.798000e+03               0.000000e+00           1.193000e+03   \n",
       "25%     2.010000e+03               8.800000e+01           1.962000e+03   \n",
       "50%     2.015000e+03               2.350000e+02           1.971000e+03   \n",
       "75%     2.018000e+03               8.670000e+02           1.979000e+03   \n",
       "max     2.022000e+03               2.002700e+04           2.021000e+03   \n",
       "\n",
       "         Athlete ID  \n",
       "count  7.461195e+06  \n",
       "mean   5.536261e+05  \n",
       "std    4.801613e+05  \n",
       "min    0.000000e+00  \n",
       "25%    1.357120e+05  \n",
       "50%    3.944680e+05  \n",
       "75%    1.037699e+06  \n",
       "max    1.641167e+06  "
      ]
     },
     "execution_count": 7,
     "metadata": {},
     "output_type": "execute_result"
    }
   ],
   "source": [
    "df.describe()"
   ]
  },
  {
   "cell_type": "markdown",
   "id": "5ccf52bc",
   "metadata": {},
   "source": [
    "## Count of the Event Distance/Length in Descending Order\n"
   ]
  },
  {
   "cell_type": "code",
   "execution_count": 8,
   "id": "3aaf4af7",
   "metadata": {},
   "outputs": [
    {
     "data": {
      "text/plain": [
       "Event distance/length\n",
       "50km      1522609\n",
       "100km      951742\n",
       "50mi       352181\n",
       "56km       333253\n",
       "87km       212062\n",
       "89km       187987\n",
       "24h        183108\n",
       "100mi      173884\n",
       "60km       159494\n",
       "45km       157799\n",
       "55km       131047\n",
       "6h         125875\n",
       "12h        114342\n",
       "80km        97962\n",
       "52km        92611\n",
       "65km        90525\n",
       "70km        82684\n",
       "53km        71828\n",
       "75km        62811\n",
       "48km        61596\n",
       "46km        60038\n",
       "90km        59493\n",
       "63km        56926\n",
       "51km        52648\n",
       "72km        52367\n",
       "54km        51406\n",
       "47km        41177\n",
       "58km        39100\n",
       "67km        37387\n",
       "57km        37034\n",
       "68km        36551\n",
       "73km        35643\n",
       "62km        34001\n",
       "78km        31891\n",
       "110km       30366\n",
       "40mi        30208\n",
       "101km       30098\n",
       "71.5km      30086\n",
       "69km        29594\n",
       "72.7km      28676\n",
       "dtype: int64"
      ]
     },
     "execution_count": 8,
     "metadata": {},
     "output_type": "execute_result"
    }
   ],
   "source": [
    "df.value_counts('Event distance/length', ascending=False).head(40)"
   ]
  },
  {
   "cell_type": "markdown",
   "id": "d743598f",
   "metadata": {},
   "source": [
    "## Count of Athlete's Country"
   ]
  },
  {
   "cell_type": "code",
   "execution_count": 9,
   "id": "55640617",
   "metadata": {},
   "outputs": [
    {
     "data": {
      "text/plain": [
       "Athlete country\n",
       "USA    1389960\n",
       "FRA    1170884\n",
       "RSA     877630\n",
       "JPN     603132\n",
       "GER     442056\n",
       "        ...   \n",
       "MDG          1\n",
       "TWN          1\n",
       "SLE          1\n",
       "SVE          1\n",
       "ACT          1\n",
       "Length: 208, dtype: int64"
      ]
     },
     "execution_count": 9,
     "metadata": {},
     "output_type": "execute_result"
    }
   ],
   "source": [
    "df.value_counts('Athlete country', ascending=False)"
   ]
  },
  {
   "cell_type": "markdown",
   "id": "a15fe57e",
   "metadata": {},
   "source": [
    "## Checking for UK Based Athletes In The Dataset"
   ]
  },
  {
   "cell_type": "code",
   "execution_count": 10,
   "id": "04e41f23",
   "metadata": {},
   "outputs": [
    {
     "data": {
      "text/plain": [
       "0"
      ]
     },
     "execution_count": 10,
     "metadata": {},
     "output_type": "execute_result"
    }
   ],
   "source": [
    "len(df[df['Athlete country'] == 'UK'])"
   ]
  },
  {
   "cell_type": "markdown",
   "id": "ef1650db",
   "metadata": {},
   "source": [
    "## Check the Count for Host"
   ]
  },
  {
   "cell_type": "code",
   "execution_count": 11,
   "id": "af2bf4dd",
   "metadata": {},
   "outputs": [],
   "source": [
    "df['Host_Country'] = df['Event name'].str.split('(').str.get(1).str.split(')').str.get(0)"
   ]
  },
  {
   "cell_type": "code",
   "execution_count": 12,
   "id": "c45c0c51",
   "metadata": {
    "scrolled": false
   },
   "outputs": [
    {
     "data": {
      "text/plain": [
       "USA    1398540\n",
       "FRA    1098144\n",
       "RSA     918916\n",
       "JPN     579407\n",
       "ITA     341894\n",
       "GER     338842\n",
       "GBR     313727\n",
       "CHN     213104\n",
       "ESP     211238\n",
       "SUI     209065\n",
       "AUS     148043\n",
       "TPE     132838\n",
       "POL     101110\n",
       "CAN      92628\n",
       "HKG      75512\n",
       "KOR      75295\n",
       "SWE      67105\n",
       "BEL      64060\n",
       "AUT      54604\n",
       "NED      48492\n",
       "Name: Host_Country, dtype: int64"
      ]
     },
     "execution_count": 12,
     "metadata": {},
     "output_type": "execute_result"
    }
   ],
   "source": [
    "df['Host_Country'].value_counts().head(20)"
   ]
  },
  {
   "cell_type": "markdown",
   "id": "6eb8a0d8",
   "metadata": {},
   "source": [
    "##### USA has hosted the most number of events with nearly 1.4 million events throughout 2 centeries. This is followed by approximately 1.1 million events been hosted by France and in 3rd place, with approximately 0.92 million events, were hosted in Russia."
   ]
  },
  {
   "cell_type": "code",
   "execution_count": 13,
   "id": "26b65d2a",
   "metadata": {},
   "outputs": [
    {
     "data": {
      "text/plain": [
       "0"
      ]
     },
     "execution_count": 13,
     "metadata": {},
     "output_type": "execute_result"
    }
   ],
   "source": [
    "country_counts = df['Host_Country'].value_counts()\n",
    "uk_count = country_counts.get('UK', 0)\n",
    "uk_count"
   ]
  },
  {
   "cell_type": "markdown",
   "id": "12e81c0c",
   "metadata": {},
   "source": [
    "### No UK Based Athletes and Events. "
   ]
  },
  {
   "cell_type": "markdown",
   "id": "cb27b2c8",
   "metadata": {},
   "source": [
    "### We will focus on USA"
   ]
  },
  {
   "cell_type": "markdown",
   "id": "3f1e8184",
   "metadata": {},
   "source": [
    "# Data Cleaning"
   ]
  },
  {
   "cell_type": "markdown",
   "id": "50a561f2",
   "metadata": {},
   "source": [
    " #### We Will On Ultramarathons Which Are: 50km, 50 Miles, 100km, and 100 Miles."
   ]
  },
  {
   "cell_type": "markdown",
   "id": "d25aaf64",
   "metadata": {},
   "source": [
    "## combine 50km, 50 Miles and 100 miles."
   ]
  },
  {
   "cell_type": "code",
   "execution_count": 14,
   "id": "dc18a9c1",
   "metadata": {},
   "outputs": [],
   "source": [
    "df_UltraMarathon = df[df['Event distance/length'].isin(['50km','50mi','100mi'])]"
   ]
  },
  {
   "cell_type": "markdown",
   "id": "7279115d",
   "metadata": {},
   "source": [
    "## Create A DataFrame With Events In USA Only During The Year 2022"
   ]
  },
  {
   "cell_type": "code",
   "execution_count": 15,
   "id": "3c619d47",
   "metadata": {},
   "outputs": [],
   "source": [
    "df_USA_events_2022 = df[(df['Event distance/length'].isin(['50km','50mi','100mi'])) & \n",
    "                        (df['Year of event'] == 2022) & \n",
    "                        (df['Host_Country'] == 'USA')]"
   ]
  },
  {
   "cell_type": "code",
   "execution_count": 16,
   "id": "9ab0807b",
   "metadata": {},
   "outputs": [
    {
     "data": {
      "text/html": [
       "<div>\n",
       "<style scoped>\n",
       "    .dataframe tbody tr th:only-of-type {\n",
       "        vertical-align: middle;\n",
       "    }\n",
       "\n",
       "    .dataframe tbody tr th {\n",
       "        vertical-align: top;\n",
       "    }\n",
       "\n",
       "    .dataframe thead th {\n",
       "        text-align: right;\n",
       "    }\n",
       "</style>\n",
       "<table border=\"1\" class=\"dataframe\">\n",
       "  <thead>\n",
       "    <tr style=\"text-align: right;\">\n",
       "      <th></th>\n",
       "      <th>Year of event</th>\n",
       "      <th>Event dates</th>\n",
       "      <th>Event name</th>\n",
       "      <th>Event distance/length</th>\n",
       "      <th>Event number of finishers</th>\n",
       "      <th>Athlete performance</th>\n",
       "      <th>Athlete club</th>\n",
       "      <th>Athlete country</th>\n",
       "      <th>Athlete year of birth</th>\n",
       "      <th>Athlete gender</th>\n",
       "      <th>Athlete age category</th>\n",
       "      <th>Athlete average speed</th>\n",
       "      <th>Athlete ID</th>\n",
       "      <th>Host_Country</th>\n",
       "    </tr>\n",
       "  </thead>\n",
       "  <tbody>\n",
       "    <tr>\n",
       "      <th>3138208</th>\n",
       "      <td>2022</td>\n",
       "      <td>12.03.2022</td>\n",
       "      <td>Bel Monte 50 Mile Endurance Run (USA)</td>\n",
       "      <td>50mi</td>\n",
       "      <td>49</td>\n",
       "      <td>7:53:36 h</td>\n",
       "      <td>*Boston, MA</td>\n",
       "      <td>USA</td>\n",
       "      <td>1994.0</td>\n",
       "      <td>M</td>\n",
       "      <td>M23</td>\n",
       "      <td>10.194</td>\n",
       "      <td>839364</td>\n",
       "      <td>USA</td>\n",
       "    </tr>\n",
       "    <tr>\n",
       "      <th>3138209</th>\n",
       "      <td>2022</td>\n",
       "      <td>12.03.2022</td>\n",
       "      <td>Bel Monte 50 Mile Endurance Run (USA)</td>\n",
       "      <td>50mi</td>\n",
       "      <td>49</td>\n",
       "      <td>8:14:24 h</td>\n",
       "      <td>*Charlotte, NC</td>\n",
       "      <td>USA</td>\n",
       "      <td>1990.0</td>\n",
       "      <td>M</td>\n",
       "      <td>M23</td>\n",
       "      <td>9.765</td>\n",
       "      <td>366598</td>\n",
       "      <td>USA</td>\n",
       "    </tr>\n",
       "    <tr>\n",
       "      <th>3138210</th>\n",
       "      <td>2022</td>\n",
       "      <td>12.03.2022</td>\n",
       "      <td>Bel Monte 50 Mile Endurance Run (USA)</td>\n",
       "      <td>50mi</td>\n",
       "      <td>49</td>\n",
       "      <td>8:19:16 h</td>\n",
       "      <td>*Kannapolis, NC</td>\n",
       "      <td>USA</td>\n",
       "      <td>1979.0</td>\n",
       "      <td>M</td>\n",
       "      <td>M40</td>\n",
       "      <td>9.67</td>\n",
       "      <td>553476</td>\n",
       "      <td>USA</td>\n",
       "    </tr>\n",
       "    <tr>\n",
       "      <th>3138211</th>\n",
       "      <td>2022</td>\n",
       "      <td>12.03.2022</td>\n",
       "      <td>Bel Monte 50 Mile Endurance Run (USA)</td>\n",
       "      <td>50mi</td>\n",
       "      <td>49</td>\n",
       "      <td>8:23:49 h</td>\n",
       "      <td>*Raleigh, NC</td>\n",
       "      <td>USA</td>\n",
       "      <td>1994.0</td>\n",
       "      <td>M</td>\n",
       "      <td>M23</td>\n",
       "      <td>9.583</td>\n",
       "      <td>807555</td>\n",
       "      <td>USA</td>\n",
       "    </tr>\n",
       "    <tr>\n",
       "      <th>3138212</th>\n",
       "      <td>2022</td>\n",
       "      <td>12.03.2022</td>\n",
       "      <td>Bel Monte 50 Mile Endurance Run (USA)</td>\n",
       "      <td>50mi</td>\n",
       "      <td>49</td>\n",
       "      <td>8:41:37 h</td>\n",
       "      <td>*Washington, DC</td>\n",
       "      <td>USA</td>\n",
       "      <td>1997.0</td>\n",
       "      <td>M</td>\n",
       "      <td>M23</td>\n",
       "      <td>9.256</td>\n",
       "      <td>947348</td>\n",
       "      <td>USA</td>\n",
       "    </tr>\n",
       "  </tbody>\n",
       "</table>\n",
       "</div>"
      ],
      "text/plain": [
       "         Year of event Event dates                             Event name  \\\n",
       "3138208           2022  12.03.2022  Bel Monte 50 Mile Endurance Run (USA)   \n",
       "3138209           2022  12.03.2022  Bel Monte 50 Mile Endurance Run (USA)   \n",
       "3138210           2022  12.03.2022  Bel Monte 50 Mile Endurance Run (USA)   \n",
       "3138211           2022  12.03.2022  Bel Monte 50 Mile Endurance Run (USA)   \n",
       "3138212           2022  12.03.2022  Bel Monte 50 Mile Endurance Run (USA)   \n",
       "\n",
       "        Event distance/length  Event number of finishers Athlete performance  \\\n",
       "3138208                  50mi                         49           7:53:36 h   \n",
       "3138209                  50mi                         49           8:14:24 h   \n",
       "3138210                  50mi                         49           8:19:16 h   \n",
       "3138211                  50mi                         49           8:23:49 h   \n",
       "3138212                  50mi                         49           8:41:37 h   \n",
       "\n",
       "            Athlete club Athlete country  Athlete year of birth  \\\n",
       "3138208      *Boston, MA             USA                 1994.0   \n",
       "3138209   *Charlotte, NC             USA                 1990.0   \n",
       "3138210  *Kannapolis, NC             USA                 1979.0   \n",
       "3138211     *Raleigh, NC             USA                 1994.0   \n",
       "3138212  *Washington, DC             USA                 1997.0   \n",
       "\n",
       "        Athlete gender Athlete age category Athlete average speed  Athlete ID  \\\n",
       "3138208              M                  M23                10.194      839364   \n",
       "3138209              M                  M23                 9.765      366598   \n",
       "3138210              M                  M40                  9.67      553476   \n",
       "3138211              M                  M23                 9.583      807555   \n",
       "3138212              M                  M23                 9.256      947348   \n",
       "\n",
       "        Host_Country  \n",
       "3138208          USA  \n",
       "3138209          USA  \n",
       "3138210          USA  \n",
       "3138211          USA  \n",
       "3138212          USA  "
      ]
     },
     "execution_count": 16,
     "metadata": {},
     "output_type": "execute_result"
    }
   ],
   "source": [
    "df_USA_events_2022.head()"
   ]
  },
  {
   "cell_type": "code",
   "execution_count": 17,
   "id": "31cd870b",
   "metadata": {},
   "outputs": [
    {
     "data": {
      "text/plain": [
       "(68044, 14)"
      ]
     },
     "execution_count": 17,
     "metadata": {},
     "output_type": "execute_result"
    }
   ],
   "source": [
    "df_USA_events_2022.shape"
   ]
  },
  {
   "cell_type": "markdown",
   "id": "87cdbef3",
   "metadata": {},
   "source": [
    "### Count of Each Race By Distance"
   ]
  },
  {
   "cell_type": "code",
   "execution_count": 18,
   "id": "19ecaa3c",
   "metadata": {},
   "outputs": [
    {
     "data": {
      "text/plain": [
       "50km     44091\n",
       "50mi     14509\n",
       "100mi     9444\n",
       "Name: Event distance/length, dtype: int64"
      ]
     },
     "execution_count": 18,
     "metadata": {},
     "output_type": "execute_result"
    }
   ],
   "source": [
    "df_USA_events_2022['Event distance/length'].value_counts()"
   ]
  },
  {
   "cell_type": "markdown",
   "id": "382492dd",
   "metadata": {},
   "source": [
    "#### In 2022, there over 44 thousnad runner, who participated in the 50km run. the 50 mile and 100 mile runs had 14.5 thousand and 9444 participants respectively."
   ]
  },
  {
   "cell_type": "markdown",
   "id": "5fb60dc9",
   "metadata": {},
   "source": [
    "## Remove (USA) From Event Name"
   ]
  },
  {
   "cell_type": "code",
   "execution_count": 19,
   "id": "80bfb8f1",
   "metadata": {},
   "outputs": [
    {
     "name": "stderr",
     "output_type": "stream",
     "text": [
      "<ipython-input-19-31a5d26433cf>:1: SettingWithCopyWarning: \n",
      "A value is trying to be set on a copy of a slice from a DataFrame.\n",
      "Try using .loc[row_indexer,col_indexer] = value instead\n",
      "\n",
      "See the caveats in the documentation: https://pandas.pydata.org/pandas-docs/stable/user_guide/indexing.html#returning-a-view-versus-a-copy\n",
      "  df_USA_events_2022['Event name'] = df_USA_events_2022['Event name'].str.split('(').str.get(0)\n"
     ]
    }
   ],
   "source": [
    "df_USA_events_2022['Event name'] = df_USA_events_2022['Event name'].str.split('(').str.get(0)"
   ]
  },
  {
   "cell_type": "markdown",
   "id": "35a95ad7",
   "metadata": {},
   "source": [
    "## Clean Up Athelte's Age"
   ]
  },
  {
   "cell_type": "code",
   "execution_count": 20,
   "id": "a82ec039",
   "metadata": {},
   "outputs": [
    {
     "name": "stderr",
     "output_type": "stream",
     "text": [
      "<ipython-input-20-e825839a6b33>:1: SettingWithCopyWarning: \n",
      "A value is trying to be set on a copy of a slice from a DataFrame.\n",
      "Try using .loc[row_indexer,col_indexer] = value instead\n",
      "\n",
      "See the caveats in the documentation: https://pandas.pydata.org/pandas-docs/stable/user_guide/indexing.html#returning-a-view-versus-a-copy\n",
      "  df_USA_events_2022['athlete_Age'] = 2022 - df_USA_events_2022['Athlete year of birth']\n"
     ]
    }
   ],
   "source": [
    "df_USA_events_2022['athlete_Age'] = 2022 - df_USA_events_2022['Athlete year of birth']"
   ]
  },
  {
   "cell_type": "markdown",
   "id": "3445d534",
   "metadata": {},
   "source": [
    "## Remove 'h' From Athlete Performance"
   ]
  },
  {
   "cell_type": "code",
   "execution_count": 21,
   "id": "e8ba64e2",
   "metadata": {},
   "outputs": [
    {
     "name": "stderr",
     "output_type": "stream",
     "text": [
      "<ipython-input-21-912472270f7e>:1: SettingWithCopyWarning: \n",
      "A value is trying to be set on a copy of a slice from a DataFrame.\n",
      "Try using .loc[row_indexer,col_indexer] = value instead\n",
      "\n",
      "See the caveats in the documentation: https://pandas.pydata.org/pandas-docs/stable/user_guide/indexing.html#returning-a-view-versus-a-copy\n",
      "  df_USA_events_2022['Athlete performance'] = df_USA_events_2022['Athlete performance'].str.split(' ').str.get(0)\n"
     ]
    }
   ],
   "source": [
    "df_USA_events_2022['Athlete performance'] = df_USA_events_2022['Athlete performance'].str.split(' ').str.get(0)"
   ]
  },
  {
   "cell_type": "code",
   "execution_count": 22,
   "id": "eb91c319",
   "metadata": {},
   "outputs": [
    {
     "data": {
      "text/html": [
       "<div>\n",
       "<style scoped>\n",
       "    .dataframe tbody tr th:only-of-type {\n",
       "        vertical-align: middle;\n",
       "    }\n",
       "\n",
       "    .dataframe tbody tr th {\n",
       "        vertical-align: top;\n",
       "    }\n",
       "\n",
       "    .dataframe thead th {\n",
       "        text-align: right;\n",
       "    }\n",
       "</style>\n",
       "<table border=\"1\" class=\"dataframe\">\n",
       "  <thead>\n",
       "    <tr style=\"text-align: right;\">\n",
       "      <th></th>\n",
       "      <th>Year of event</th>\n",
       "      <th>Event dates</th>\n",
       "      <th>Event name</th>\n",
       "      <th>Event distance/length</th>\n",
       "      <th>Event number of finishers</th>\n",
       "      <th>Athlete performance</th>\n",
       "      <th>Athlete club</th>\n",
       "      <th>Athlete country</th>\n",
       "      <th>Athlete year of birth</th>\n",
       "      <th>Athlete gender</th>\n",
       "      <th>Athlete age category</th>\n",
       "      <th>Athlete average speed</th>\n",
       "      <th>Athlete ID</th>\n",
       "      <th>Host_Country</th>\n",
       "      <th>athlete_Age</th>\n",
       "    </tr>\n",
       "  </thead>\n",
       "  <tbody>\n",
       "    <tr>\n",
       "      <th>3138208</th>\n",
       "      <td>2022</td>\n",
       "      <td>12.03.2022</td>\n",
       "      <td>Bel Monte 50 Mile Endurance Run</td>\n",
       "      <td>50mi</td>\n",
       "      <td>49</td>\n",
       "      <td>7:53:36</td>\n",
       "      <td>*Boston, MA</td>\n",
       "      <td>USA</td>\n",
       "      <td>1994.0</td>\n",
       "      <td>M</td>\n",
       "      <td>M23</td>\n",
       "      <td>10.194</td>\n",
       "      <td>839364</td>\n",
       "      <td>USA</td>\n",
       "      <td>28.0</td>\n",
       "    </tr>\n",
       "    <tr>\n",
       "      <th>3138209</th>\n",
       "      <td>2022</td>\n",
       "      <td>12.03.2022</td>\n",
       "      <td>Bel Monte 50 Mile Endurance Run</td>\n",
       "      <td>50mi</td>\n",
       "      <td>49</td>\n",
       "      <td>8:14:24</td>\n",
       "      <td>*Charlotte, NC</td>\n",
       "      <td>USA</td>\n",
       "      <td>1990.0</td>\n",
       "      <td>M</td>\n",
       "      <td>M23</td>\n",
       "      <td>9.765</td>\n",
       "      <td>366598</td>\n",
       "      <td>USA</td>\n",
       "      <td>32.0</td>\n",
       "    </tr>\n",
       "    <tr>\n",
       "      <th>3138210</th>\n",
       "      <td>2022</td>\n",
       "      <td>12.03.2022</td>\n",
       "      <td>Bel Monte 50 Mile Endurance Run</td>\n",
       "      <td>50mi</td>\n",
       "      <td>49</td>\n",
       "      <td>8:19:16</td>\n",
       "      <td>*Kannapolis, NC</td>\n",
       "      <td>USA</td>\n",
       "      <td>1979.0</td>\n",
       "      <td>M</td>\n",
       "      <td>M40</td>\n",
       "      <td>9.67</td>\n",
       "      <td>553476</td>\n",
       "      <td>USA</td>\n",
       "      <td>43.0</td>\n",
       "    </tr>\n",
       "    <tr>\n",
       "      <th>3138211</th>\n",
       "      <td>2022</td>\n",
       "      <td>12.03.2022</td>\n",
       "      <td>Bel Monte 50 Mile Endurance Run</td>\n",
       "      <td>50mi</td>\n",
       "      <td>49</td>\n",
       "      <td>8:23:49</td>\n",
       "      <td>*Raleigh, NC</td>\n",
       "      <td>USA</td>\n",
       "      <td>1994.0</td>\n",
       "      <td>M</td>\n",
       "      <td>M23</td>\n",
       "      <td>9.583</td>\n",
       "      <td>807555</td>\n",
       "      <td>USA</td>\n",
       "      <td>28.0</td>\n",
       "    </tr>\n",
       "    <tr>\n",
       "      <th>3138212</th>\n",
       "      <td>2022</td>\n",
       "      <td>12.03.2022</td>\n",
       "      <td>Bel Monte 50 Mile Endurance Run</td>\n",
       "      <td>50mi</td>\n",
       "      <td>49</td>\n",
       "      <td>8:41:37</td>\n",
       "      <td>*Washington, DC</td>\n",
       "      <td>USA</td>\n",
       "      <td>1997.0</td>\n",
       "      <td>M</td>\n",
       "      <td>M23</td>\n",
       "      <td>9.256</td>\n",
       "      <td>947348</td>\n",
       "      <td>USA</td>\n",
       "      <td>25.0</td>\n",
       "    </tr>\n",
       "  </tbody>\n",
       "</table>\n",
       "</div>"
      ],
      "text/plain": [
       "         Year of event Event dates                        Event name  \\\n",
       "3138208           2022  12.03.2022  Bel Monte 50 Mile Endurance Run    \n",
       "3138209           2022  12.03.2022  Bel Monte 50 Mile Endurance Run    \n",
       "3138210           2022  12.03.2022  Bel Monte 50 Mile Endurance Run    \n",
       "3138211           2022  12.03.2022  Bel Monte 50 Mile Endurance Run    \n",
       "3138212           2022  12.03.2022  Bel Monte 50 Mile Endurance Run    \n",
       "\n",
       "        Event distance/length  Event number of finishers Athlete performance  \\\n",
       "3138208                  50mi                         49             7:53:36   \n",
       "3138209                  50mi                         49             8:14:24   \n",
       "3138210                  50mi                         49             8:19:16   \n",
       "3138211                  50mi                         49             8:23:49   \n",
       "3138212                  50mi                         49             8:41:37   \n",
       "\n",
       "            Athlete club Athlete country  Athlete year of birth  \\\n",
       "3138208      *Boston, MA             USA                 1994.0   \n",
       "3138209   *Charlotte, NC             USA                 1990.0   \n",
       "3138210  *Kannapolis, NC             USA                 1979.0   \n",
       "3138211     *Raleigh, NC             USA                 1994.0   \n",
       "3138212  *Washington, DC             USA                 1997.0   \n",
       "\n",
       "        Athlete gender Athlete age category Athlete average speed  Athlete ID  \\\n",
       "3138208              M                  M23                10.194      839364   \n",
       "3138209              M                  M23                 9.765      366598   \n",
       "3138210              M                  M40                  9.67      553476   \n",
       "3138211              M                  M23                 9.583      807555   \n",
       "3138212              M                  M23                 9.256      947348   \n",
       "\n",
       "        Host_Country  athlete_Age  \n",
       "3138208          USA         28.0  \n",
       "3138209          USA         32.0  \n",
       "3138210          USA         43.0  \n",
       "3138211          USA         28.0  \n",
       "3138212          USA         25.0  "
      ]
     },
     "execution_count": 22,
     "metadata": {},
     "output_type": "execute_result"
    }
   ],
   "source": [
    "df_USA_events_2022.head()"
   ]
  },
  {
   "cell_type": "code",
   "execution_count": 23,
   "id": "6530adc6",
   "metadata": {},
   "outputs": [
    {
     "data": {
      "text/plain": [
       "05.-06.08.2022    7\n",
       "27.-28.03.2022    6\n",
       "25.07.2022        4\n",
       "02.01.2022        4\n",
       "26.-27.08.2022    4\n",
       "12.-13.03.2022    3\n",
       "22.-24.04.2022    3\n",
       "13.-14.05.2022    2\n",
       "14.-16.01.2022    1\n",
       "08.-09.01.2022    1\n",
       "Name: Event dates, dtype: int64"
      ]
     },
     "execution_count": 23,
     "metadata": {},
     "output_type": "execute_result"
    }
   ],
   "source": [
    "df_USA_events_2022['Event dates'].value_counts().tail(10)"
   ]
  },
  {
   "cell_type": "markdown",
   "id": "b95f33d3",
   "metadata": {},
   "source": [
    "#### Some Event dates have a start date and end date in the same column. "
   ]
  },
  {
   "cell_type": "markdown",
   "id": "54dd82f5",
   "metadata": {},
   "source": [
    "## Create a Start Date and End Date Column"
   ]
  },
  {
   "cell_type": "code",
   "execution_count": 24,
   "id": "5e9804e3",
   "metadata": {},
   "outputs": [
    {
     "name": "stderr",
     "output_type": "stream",
     "text": [
      "<ipython-input-24-a84c695614e7>:1: SettingWithCopyWarning: \n",
      "A value is trying to be set on a copy of a slice from a DataFrame.\n",
      "Try using .loc[row_indexer,col_indexer] = value instead\n",
      "\n",
      "See the caveats in the documentation: https://pandas.pydata.org/pandas-docs/stable/user_guide/indexing.html#returning-a-view-versus-a-copy\n",
      "  df_USA_events_2022['Start_date'] = df_USA_events_2022['Event dates'].str.extract(r'(\\d{2}\\.\\d{2}\\.\\d{4})')[0]\n",
      "<ipython-input-24-a84c695614e7>:2: SettingWithCopyWarning: \n",
      "A value is trying to be set on a copy of a slice from a DataFrame.\n",
      "Try using .loc[row_indexer,col_indexer] = value instead\n",
      "\n",
      "See the caveats in the documentation: https://pandas.pydata.org/pandas-docs/stable/user_guide/indexing.html#returning-a-view-versus-a-copy\n",
      "  df_USA_events_2022['End_date'] = df_USA_events_2022['Event dates'].str.extract(r'[-]*(\\d{2}\\.\\d{2}\\.\\d{4})')[0]\n"
     ]
    }
   ],
   "source": [
    "df_USA_events_2022['Start_date'] = df_USA_events_2022['Event dates'].str.extract(r'(\\d{2}\\.\\d{2}\\.\\d{4})')[0]\n",
    "df_USA_events_2022['End_date'] = df_USA_events_2022['Event dates'].str.extract(r'[-]*(\\d{2}\\.\\d{2}\\.\\d{4})')[0]"
   ]
  },
  {
   "cell_type": "markdown",
   "id": "23786fed",
   "metadata": {},
   "source": [
    "## For events that finish on the same date, set the End date to be the same as the Start date"
   ]
  },
  {
   "cell_type": "code",
   "execution_count": 25,
   "id": "059ccead",
   "metadata": {},
   "outputs": [
    {
     "name": "stderr",
     "output_type": "stream",
     "text": [
      "<ipython-input-25-dfae1cd8e80f>:1: SettingWithCopyWarning: \n",
      "A value is trying to be set on a copy of a slice from a DataFrame.\n",
      "Try using .loc[row_indexer,col_indexer] = value instead\n",
      "\n",
      "See the caveats in the documentation: https://pandas.pydata.org/pandas-docs/stable/user_guide/indexing.html#returning-a-view-versus-a-copy\n",
      "  df_USA_events_2022['End_date'] = df_USA_events_2022['End_date'].mask(df_USA_events_2022['Start_date'] == df_USA_events_2022['End_date'], df_USA_events_2022['Start_date'])\n"
     ]
    }
   ],
   "source": [
    "df_USA_events_2022['End_date'] = df_USA_events_2022['End_date'].mask(df_USA_events_2022['Start_date'] == df_USA_events_2022['End_date'], df_USA_events_2022['Start_date'])\n"
   ]
  },
  {
   "cell_type": "code",
   "execution_count": 26,
   "id": "84c6f30f",
   "metadata": {},
   "outputs": [
    {
     "data": {
      "text/plain": [
       "25.07.2022       4\n",
       "02.01.2022       4\n",
       "28.03.2022       6\n",
       "22.08.2022       8\n",
       "05.08.2022      12\n",
       "              ... \n",
       "17.09.2022    1674\n",
       "09.04.2022    1925\n",
       "14.05.2022    2010\n",
       "19.11.2022    2131\n",
       "23.04.2022    2305\n",
       "Name: Start_date, Length: 140, dtype: int64"
      ]
     },
     "execution_count": 26,
     "metadata": {},
     "output_type": "execute_result"
    }
   ],
   "source": [
    "df_USA_events_2022['Start_date'].value_counts(ascending = True)"
   ]
  },
  {
   "cell_type": "code",
   "execution_count": 27,
   "id": "d094092f",
   "metadata": {},
   "outputs": [
    {
     "data": {
      "text/html": [
       "<div>\n",
       "<style scoped>\n",
       "    .dataframe tbody tr th:only-of-type {\n",
       "        vertical-align: middle;\n",
       "    }\n",
       "\n",
       "    .dataframe tbody tr th {\n",
       "        vertical-align: top;\n",
       "    }\n",
       "\n",
       "    .dataframe thead th {\n",
       "        text-align: right;\n",
       "    }\n",
       "</style>\n",
       "<table border=\"1\" class=\"dataframe\">\n",
       "  <thead>\n",
       "    <tr style=\"text-align: right;\">\n",
       "      <th></th>\n",
       "      <th>Year of event</th>\n",
       "      <th>Event dates</th>\n",
       "      <th>Event name</th>\n",
       "      <th>Event distance/length</th>\n",
       "      <th>Event number of finishers</th>\n",
       "      <th>Athlete performance</th>\n",
       "      <th>Athlete club</th>\n",
       "      <th>Athlete country</th>\n",
       "      <th>Athlete year of birth</th>\n",
       "      <th>Athlete gender</th>\n",
       "      <th>Athlete age category</th>\n",
       "      <th>Athlete average speed</th>\n",
       "      <th>Athlete ID</th>\n",
       "      <th>Host_Country</th>\n",
       "      <th>athlete_Age</th>\n",
       "      <th>Start_date</th>\n",
       "      <th>End_date</th>\n",
       "    </tr>\n",
       "  </thead>\n",
       "  <tbody>\n",
       "    <tr>\n",
       "      <th>3138208</th>\n",
       "      <td>2022</td>\n",
       "      <td>12.03.2022</td>\n",
       "      <td>Bel Monte 50 Mile Endurance Run</td>\n",
       "      <td>50mi</td>\n",
       "      <td>49</td>\n",
       "      <td>7:53:36</td>\n",
       "      <td>*Boston, MA</td>\n",
       "      <td>USA</td>\n",
       "      <td>1994.0</td>\n",
       "      <td>M</td>\n",
       "      <td>M23</td>\n",
       "      <td>10.194</td>\n",
       "      <td>839364</td>\n",
       "      <td>USA</td>\n",
       "      <td>28.0</td>\n",
       "      <td>12.03.2022</td>\n",
       "      <td>12.03.2022</td>\n",
       "    </tr>\n",
       "    <tr>\n",
       "      <th>3138209</th>\n",
       "      <td>2022</td>\n",
       "      <td>12.03.2022</td>\n",
       "      <td>Bel Monte 50 Mile Endurance Run</td>\n",
       "      <td>50mi</td>\n",
       "      <td>49</td>\n",
       "      <td>8:14:24</td>\n",
       "      <td>*Charlotte, NC</td>\n",
       "      <td>USA</td>\n",
       "      <td>1990.0</td>\n",
       "      <td>M</td>\n",
       "      <td>M23</td>\n",
       "      <td>9.765</td>\n",
       "      <td>366598</td>\n",
       "      <td>USA</td>\n",
       "      <td>32.0</td>\n",
       "      <td>12.03.2022</td>\n",
       "      <td>12.03.2022</td>\n",
       "    </tr>\n",
       "    <tr>\n",
       "      <th>3138210</th>\n",
       "      <td>2022</td>\n",
       "      <td>12.03.2022</td>\n",
       "      <td>Bel Monte 50 Mile Endurance Run</td>\n",
       "      <td>50mi</td>\n",
       "      <td>49</td>\n",
       "      <td>8:19:16</td>\n",
       "      <td>*Kannapolis, NC</td>\n",
       "      <td>USA</td>\n",
       "      <td>1979.0</td>\n",
       "      <td>M</td>\n",
       "      <td>M40</td>\n",
       "      <td>9.67</td>\n",
       "      <td>553476</td>\n",
       "      <td>USA</td>\n",
       "      <td>43.0</td>\n",
       "      <td>12.03.2022</td>\n",
       "      <td>12.03.2022</td>\n",
       "    </tr>\n",
       "    <tr>\n",
       "      <th>3138211</th>\n",
       "      <td>2022</td>\n",
       "      <td>12.03.2022</td>\n",
       "      <td>Bel Monte 50 Mile Endurance Run</td>\n",
       "      <td>50mi</td>\n",
       "      <td>49</td>\n",
       "      <td>8:23:49</td>\n",
       "      <td>*Raleigh, NC</td>\n",
       "      <td>USA</td>\n",
       "      <td>1994.0</td>\n",
       "      <td>M</td>\n",
       "      <td>M23</td>\n",
       "      <td>9.583</td>\n",
       "      <td>807555</td>\n",
       "      <td>USA</td>\n",
       "      <td>28.0</td>\n",
       "      <td>12.03.2022</td>\n",
       "      <td>12.03.2022</td>\n",
       "    </tr>\n",
       "    <tr>\n",
       "      <th>3138212</th>\n",
       "      <td>2022</td>\n",
       "      <td>12.03.2022</td>\n",
       "      <td>Bel Monte 50 Mile Endurance Run</td>\n",
       "      <td>50mi</td>\n",
       "      <td>49</td>\n",
       "      <td>8:41:37</td>\n",
       "      <td>*Washington, DC</td>\n",
       "      <td>USA</td>\n",
       "      <td>1997.0</td>\n",
       "      <td>M</td>\n",
       "      <td>M23</td>\n",
       "      <td>9.256</td>\n",
       "      <td>947348</td>\n",
       "      <td>USA</td>\n",
       "      <td>25.0</td>\n",
       "      <td>12.03.2022</td>\n",
       "      <td>12.03.2022</td>\n",
       "    </tr>\n",
       "  </tbody>\n",
       "</table>\n",
       "</div>"
      ],
      "text/plain": [
       "         Year of event Event dates                        Event name  \\\n",
       "3138208           2022  12.03.2022  Bel Monte 50 Mile Endurance Run    \n",
       "3138209           2022  12.03.2022  Bel Monte 50 Mile Endurance Run    \n",
       "3138210           2022  12.03.2022  Bel Monte 50 Mile Endurance Run    \n",
       "3138211           2022  12.03.2022  Bel Monte 50 Mile Endurance Run    \n",
       "3138212           2022  12.03.2022  Bel Monte 50 Mile Endurance Run    \n",
       "\n",
       "        Event distance/length  Event number of finishers Athlete performance  \\\n",
       "3138208                  50mi                         49             7:53:36   \n",
       "3138209                  50mi                         49             8:14:24   \n",
       "3138210                  50mi                         49             8:19:16   \n",
       "3138211                  50mi                         49             8:23:49   \n",
       "3138212                  50mi                         49             8:41:37   \n",
       "\n",
       "            Athlete club Athlete country  Athlete year of birth  \\\n",
       "3138208      *Boston, MA             USA                 1994.0   \n",
       "3138209   *Charlotte, NC             USA                 1990.0   \n",
       "3138210  *Kannapolis, NC             USA                 1979.0   \n",
       "3138211     *Raleigh, NC             USA                 1994.0   \n",
       "3138212  *Washington, DC             USA                 1997.0   \n",
       "\n",
       "        Athlete gender Athlete age category Athlete average speed  Athlete ID  \\\n",
       "3138208              M                  M23                10.194      839364   \n",
       "3138209              M                  M23                 9.765      366598   \n",
       "3138210              M                  M40                  9.67      553476   \n",
       "3138211              M                  M23                 9.583      807555   \n",
       "3138212              M                  M23                 9.256      947348   \n",
       "\n",
       "        Host_Country  athlete_Age  Start_date    End_date  \n",
       "3138208          USA         28.0  12.03.2022  12.03.2022  \n",
       "3138209          USA         32.0  12.03.2022  12.03.2022  \n",
       "3138210          USA         43.0  12.03.2022  12.03.2022  \n",
       "3138211          USA         28.0  12.03.2022  12.03.2022  \n",
       "3138212          USA         25.0  12.03.2022  12.03.2022  "
      ]
     },
     "execution_count": 27,
     "metadata": {},
     "output_type": "execute_result"
    }
   ],
   "source": [
    "df_USA_events_2022.head()"
   ]
  },
  {
   "cell_type": "markdown",
   "id": "4acd2511",
   "metadata": {},
   "source": [
    "## Drop unnecessary columns"
   ]
  },
  {
   "cell_type": "code",
   "execution_count": 28,
   "id": "40d10e37",
   "metadata": {},
   "outputs": [],
   "source": [
    "df_USA_events_2022 = df_USA_events_2022.drop(['Event dates',\n",
    "                                              'Athlete club',\n",
    "                                             'Athlete country',\n",
    "                                             'Athlete year of birth',\n",
    "                                             'Athlete age category'], axis = 1)"
   ]
  },
  {
   "cell_type": "code",
   "execution_count": 29,
   "id": "774bd954",
   "metadata": {},
   "outputs": [
    {
     "data": {
      "text/html": [
       "<div>\n",
       "<style scoped>\n",
       "    .dataframe tbody tr th:only-of-type {\n",
       "        vertical-align: middle;\n",
       "    }\n",
       "\n",
       "    .dataframe tbody tr th {\n",
       "        vertical-align: top;\n",
       "    }\n",
       "\n",
       "    .dataframe thead th {\n",
       "        text-align: right;\n",
       "    }\n",
       "</style>\n",
       "<table border=\"1\" class=\"dataframe\">\n",
       "  <thead>\n",
       "    <tr style=\"text-align: right;\">\n",
       "      <th></th>\n",
       "      <th>Year of event</th>\n",
       "      <th>Event name</th>\n",
       "      <th>Event distance/length</th>\n",
       "      <th>Event number of finishers</th>\n",
       "      <th>Athlete performance</th>\n",
       "      <th>Athlete gender</th>\n",
       "      <th>Athlete average speed</th>\n",
       "      <th>Athlete ID</th>\n",
       "      <th>Host_Country</th>\n",
       "      <th>athlete_Age</th>\n",
       "      <th>Start_date</th>\n",
       "      <th>End_date</th>\n",
       "    </tr>\n",
       "  </thead>\n",
       "  <tbody>\n",
       "    <tr>\n",
       "      <th>3138208</th>\n",
       "      <td>2022</td>\n",
       "      <td>Bel Monte 50 Mile Endurance Run</td>\n",
       "      <td>50mi</td>\n",
       "      <td>49</td>\n",
       "      <td>7:53:36</td>\n",
       "      <td>M</td>\n",
       "      <td>10.194</td>\n",
       "      <td>839364</td>\n",
       "      <td>USA</td>\n",
       "      <td>28.0</td>\n",
       "      <td>12.03.2022</td>\n",
       "      <td>12.03.2022</td>\n",
       "    </tr>\n",
       "    <tr>\n",
       "      <th>3138209</th>\n",
       "      <td>2022</td>\n",
       "      <td>Bel Monte 50 Mile Endurance Run</td>\n",
       "      <td>50mi</td>\n",
       "      <td>49</td>\n",
       "      <td>8:14:24</td>\n",
       "      <td>M</td>\n",
       "      <td>9.765</td>\n",
       "      <td>366598</td>\n",
       "      <td>USA</td>\n",
       "      <td>32.0</td>\n",
       "      <td>12.03.2022</td>\n",
       "      <td>12.03.2022</td>\n",
       "    </tr>\n",
       "    <tr>\n",
       "      <th>3138210</th>\n",
       "      <td>2022</td>\n",
       "      <td>Bel Monte 50 Mile Endurance Run</td>\n",
       "      <td>50mi</td>\n",
       "      <td>49</td>\n",
       "      <td>8:19:16</td>\n",
       "      <td>M</td>\n",
       "      <td>9.67</td>\n",
       "      <td>553476</td>\n",
       "      <td>USA</td>\n",
       "      <td>43.0</td>\n",
       "      <td>12.03.2022</td>\n",
       "      <td>12.03.2022</td>\n",
       "    </tr>\n",
       "    <tr>\n",
       "      <th>3138211</th>\n",
       "      <td>2022</td>\n",
       "      <td>Bel Monte 50 Mile Endurance Run</td>\n",
       "      <td>50mi</td>\n",
       "      <td>49</td>\n",
       "      <td>8:23:49</td>\n",
       "      <td>M</td>\n",
       "      <td>9.583</td>\n",
       "      <td>807555</td>\n",
       "      <td>USA</td>\n",
       "      <td>28.0</td>\n",
       "      <td>12.03.2022</td>\n",
       "      <td>12.03.2022</td>\n",
       "    </tr>\n",
       "    <tr>\n",
       "      <th>3138212</th>\n",
       "      <td>2022</td>\n",
       "      <td>Bel Monte 50 Mile Endurance Run</td>\n",
       "      <td>50mi</td>\n",
       "      <td>49</td>\n",
       "      <td>8:41:37</td>\n",
       "      <td>M</td>\n",
       "      <td>9.256</td>\n",
       "      <td>947348</td>\n",
       "      <td>USA</td>\n",
       "      <td>25.0</td>\n",
       "      <td>12.03.2022</td>\n",
       "      <td>12.03.2022</td>\n",
       "    </tr>\n",
       "  </tbody>\n",
       "</table>\n",
       "</div>"
      ],
      "text/plain": [
       "         Year of event                        Event name  \\\n",
       "3138208           2022  Bel Monte 50 Mile Endurance Run    \n",
       "3138209           2022  Bel Monte 50 Mile Endurance Run    \n",
       "3138210           2022  Bel Monte 50 Mile Endurance Run    \n",
       "3138211           2022  Bel Monte 50 Mile Endurance Run    \n",
       "3138212           2022  Bel Monte 50 Mile Endurance Run    \n",
       "\n",
       "        Event distance/length  Event number of finishers Athlete performance  \\\n",
       "3138208                  50mi                         49             7:53:36   \n",
       "3138209                  50mi                         49             8:14:24   \n",
       "3138210                  50mi                         49             8:19:16   \n",
       "3138211                  50mi                         49             8:23:49   \n",
       "3138212                  50mi                         49             8:41:37   \n",
       "\n",
       "        Athlete gender Athlete average speed  Athlete ID Host_Country  \\\n",
       "3138208              M                10.194      839364          USA   \n",
       "3138209              M                 9.765      366598          USA   \n",
       "3138210              M                  9.67      553476          USA   \n",
       "3138211              M                 9.583      807555          USA   \n",
       "3138212              M                 9.256      947348          USA   \n",
       "\n",
       "         athlete_Age  Start_date    End_date  \n",
       "3138208         28.0  12.03.2022  12.03.2022  \n",
       "3138209         32.0  12.03.2022  12.03.2022  \n",
       "3138210         43.0  12.03.2022  12.03.2022  \n",
       "3138211         28.0  12.03.2022  12.03.2022  \n",
       "3138212         25.0  12.03.2022  12.03.2022  "
      ]
     },
     "execution_count": 29,
     "metadata": {},
     "output_type": "execute_result"
    }
   ],
   "source": [
    "df_USA_events_2022.head()"
   ]
  },
  {
   "cell_type": "markdown",
   "id": "5a318b10",
   "metadata": {},
   "source": [
    "## Clean up null values"
   ]
  },
  {
   "cell_type": "code",
   "execution_count": 30,
   "id": "2bdea370",
   "metadata": {},
   "outputs": [
    {
     "data": {
      "text/plain": [
       "Year of event                   0\n",
       "Event name                      0\n",
       "Event distance/length           0\n",
       "Event number of finishers       0\n",
       "Athlete performance             0\n",
       "Athlete gender                  0\n",
       "Athlete average speed           0\n",
       "Athlete ID                      0\n",
       "Host_Country                    0\n",
       "athlete_Age                  1801\n",
       "Start_date                      0\n",
       "End_date                        0\n",
       "dtype: int64"
      ]
     },
     "execution_count": 30,
     "metadata": {},
     "output_type": "execute_result"
    }
   ],
   "source": [
    "df_USA_events_2022.isna().sum()"
   ]
  },
  {
   "cell_type": "code",
   "execution_count": 31,
   "id": "d7890ac5",
   "metadata": {
    "scrolled": true
   },
   "outputs": [
    {
     "data": {
      "text/html": [
       "<div>\n",
       "<style scoped>\n",
       "    .dataframe tbody tr th:only-of-type {\n",
       "        vertical-align: middle;\n",
       "    }\n",
       "\n",
       "    .dataframe tbody tr th {\n",
       "        vertical-align: top;\n",
       "    }\n",
       "\n",
       "    .dataframe thead th {\n",
       "        text-align: right;\n",
       "    }\n",
       "</style>\n",
       "<table border=\"1\" class=\"dataframe\">\n",
       "  <thead>\n",
       "    <tr style=\"text-align: right;\">\n",
       "      <th></th>\n",
       "      <th>Year of event</th>\n",
       "      <th>Event name</th>\n",
       "      <th>Event distance/length</th>\n",
       "      <th>Event number of finishers</th>\n",
       "      <th>Athlete performance</th>\n",
       "      <th>Athlete gender</th>\n",
       "      <th>Athlete average speed</th>\n",
       "      <th>Athlete ID</th>\n",
       "      <th>Host_Country</th>\n",
       "      <th>athlete_Age</th>\n",
       "      <th>Start_date</th>\n",
       "      <th>End_date</th>\n",
       "    </tr>\n",
       "  </thead>\n",
       "  <tbody>\n",
       "    <tr>\n",
       "      <th>3139589</th>\n",
       "      <td>2022</td>\n",
       "      <td>Antelope Canyon 100 Mile</td>\n",
       "      <td>100mi</td>\n",
       "      <td>31</td>\n",
       "      <td>28:19:58</td>\n",
       "      <td>M</td>\n",
       "      <td>5.68</td>\n",
       "      <td>947522</td>\n",
       "      <td>USA</td>\n",
       "      <td>NaN</td>\n",
       "      <td>14.03.2022</td>\n",
       "      <td>14.03.2022</td>\n",
       "    </tr>\n",
       "    <tr>\n",
       "      <th>3139609</th>\n",
       "      <td>2022</td>\n",
       "      <td>Antelope Canyon 50 Mile</td>\n",
       "      <td>50mi</td>\n",
       "      <td>251</td>\n",
       "      <td>9:42:19</td>\n",
       "      <td>F</td>\n",
       "      <td>8.291</td>\n",
       "      <td>947523</td>\n",
       "      <td>USA</td>\n",
       "      <td>NaN</td>\n",
       "      <td>12.03.2022</td>\n",
       "      <td>12.03.2022</td>\n",
       "    </tr>\n",
       "    <tr>\n",
       "      <th>3139615</th>\n",
       "      <td>2022</td>\n",
       "      <td>Antelope Canyon 50 Mile</td>\n",
       "      <td>50mi</td>\n",
       "      <td>251</td>\n",
       "      <td>10:06:45</td>\n",
       "      <td>M</td>\n",
       "      <td>7.957</td>\n",
       "      <td>947524</td>\n",
       "      <td>USA</td>\n",
       "      <td>NaN</td>\n",
       "      <td>12.03.2022</td>\n",
       "      <td>12.03.2022</td>\n",
       "    </tr>\n",
       "    <tr>\n",
       "      <th>3139616</th>\n",
       "      <td>2022</td>\n",
       "      <td>Antelope Canyon 50 Mile</td>\n",
       "      <td>50mi</td>\n",
       "      <td>251</td>\n",
       "      <td>10:12:39</td>\n",
       "      <td>M</td>\n",
       "      <td>7.881</td>\n",
       "      <td>708185</td>\n",
       "      <td>USA</td>\n",
       "      <td>NaN</td>\n",
       "      <td>12.03.2022</td>\n",
       "      <td>12.03.2022</td>\n",
       "    </tr>\n",
       "    <tr>\n",
       "      <th>3139642</th>\n",
       "      <td>2022</td>\n",
       "      <td>Antelope Canyon 50 Mile</td>\n",
       "      <td>50mi</td>\n",
       "      <td>251</td>\n",
       "      <td>11:05:36</td>\n",
       "      <td>M</td>\n",
       "      <td>7.254</td>\n",
       "      <td>947527</td>\n",
       "      <td>USA</td>\n",
       "      <td>NaN</td>\n",
       "      <td>12.03.2022</td>\n",
       "      <td>12.03.2022</td>\n",
       "    </tr>\n",
       "    <tr>\n",
       "      <th>...</th>\n",
       "      <td>...</td>\n",
       "      <td>...</td>\n",
       "      <td>...</td>\n",
       "      <td>...</td>\n",
       "      <td>...</td>\n",
       "      <td>...</td>\n",
       "      <td>...</td>\n",
       "      <td>...</td>\n",
       "      <td>...</td>\n",
       "      <td>...</td>\n",
       "      <td>...</td>\n",
       "      <td>...</td>\n",
       "    </tr>\n",
       "    <tr>\n",
       "      <th>3601761</th>\n",
       "      <td>2022</td>\n",
       "      <td>Lake Hodges Trail Fest 50K</td>\n",
       "      <td>50km</td>\n",
       "      <td>116</td>\n",
       "      <td>7:20:19</td>\n",
       "      <td>M</td>\n",
       "      <td>6.813</td>\n",
       "      <td>74573</td>\n",
       "      <td>USA</td>\n",
       "      <td>NaN</td>\n",
       "      <td>22.10.2022</td>\n",
       "      <td>22.10.2022</td>\n",
       "    </tr>\n",
       "    <tr>\n",
       "      <th>3601768</th>\n",
       "      <td>2022</td>\n",
       "      <td>Lake Hodges Trail Fest 50K</td>\n",
       "      <td>50km</td>\n",
       "      <td>116</td>\n",
       "      <td>7:30:35</td>\n",
       "      <td>F</td>\n",
       "      <td>6.658</td>\n",
       "      <td>1043495</td>\n",
       "      <td>USA</td>\n",
       "      <td>NaN</td>\n",
       "      <td>22.10.2022</td>\n",
       "      <td>22.10.2022</td>\n",
       "    </tr>\n",
       "    <tr>\n",
       "      <th>3601771</th>\n",
       "      <td>2022</td>\n",
       "      <td>Lake Hodges Trail Fest 50K</td>\n",
       "      <td>50km</td>\n",
       "      <td>116</td>\n",
       "      <td>7:50:50</td>\n",
       "      <td>M</td>\n",
       "      <td>6.372</td>\n",
       "      <td>1043497</td>\n",
       "      <td>USA</td>\n",
       "      <td>NaN</td>\n",
       "      <td>22.10.2022</td>\n",
       "      <td>22.10.2022</td>\n",
       "    </tr>\n",
       "    <tr>\n",
       "      <th>3601774</th>\n",
       "      <td>2022</td>\n",
       "      <td>Lake Hodges Trail Fest 50K</td>\n",
       "      <td>50km</td>\n",
       "      <td>116</td>\n",
       "      <td>8:00:28</td>\n",
       "      <td>M</td>\n",
       "      <td>6.244</td>\n",
       "      <td>1043498</td>\n",
       "      <td>USA</td>\n",
       "      <td>NaN</td>\n",
       "      <td>22.10.2022</td>\n",
       "      <td>22.10.2022</td>\n",
       "    </tr>\n",
       "    <tr>\n",
       "      <th>3601776</th>\n",
       "      <td>2022</td>\n",
       "      <td>Lake Hodges Trail Fest 50K</td>\n",
       "      <td>50km</td>\n",
       "      <td>116</td>\n",
       "      <td>8:17:40</td>\n",
       "      <td>M</td>\n",
       "      <td>6.028</td>\n",
       "      <td>816612</td>\n",
       "      <td>USA</td>\n",
       "      <td>NaN</td>\n",
       "      <td>22.10.2022</td>\n",
       "      <td>22.10.2022</td>\n",
       "    </tr>\n",
       "  </tbody>\n",
       "</table>\n",
       "<p>1801 rows × 12 columns</p>\n",
       "</div>"
      ],
      "text/plain": [
       "         Year of event                   Event name Event distance/length  \\\n",
       "3139589           2022    Antelope Canyon 100 Mile                  100mi   \n",
       "3139609           2022     Antelope Canyon 50 Mile                   50mi   \n",
       "3139615           2022     Antelope Canyon 50 Mile                   50mi   \n",
       "3139616           2022     Antelope Canyon 50 Mile                   50mi   \n",
       "3139642           2022     Antelope Canyon 50 Mile                   50mi   \n",
       "...                ...                          ...                   ...   \n",
       "3601761           2022  Lake Hodges Trail Fest 50K                   50km   \n",
       "3601768           2022  Lake Hodges Trail Fest 50K                   50km   \n",
       "3601771           2022  Lake Hodges Trail Fest 50K                   50km   \n",
       "3601774           2022  Lake Hodges Trail Fest 50K                   50km   \n",
       "3601776           2022  Lake Hodges Trail Fest 50K                   50km   \n",
       "\n",
       "         Event number of finishers Athlete performance Athlete gender  \\\n",
       "3139589                         31            28:19:58              M   \n",
       "3139609                        251             9:42:19              F   \n",
       "3139615                        251            10:06:45              M   \n",
       "3139616                        251            10:12:39              M   \n",
       "3139642                        251            11:05:36              M   \n",
       "...                            ...                 ...            ...   \n",
       "3601761                        116             7:20:19              M   \n",
       "3601768                        116             7:30:35              F   \n",
       "3601771                        116             7:50:50              M   \n",
       "3601774                        116             8:00:28              M   \n",
       "3601776                        116             8:17:40              M   \n",
       "\n",
       "        Athlete average speed  Athlete ID Host_Country  athlete_Age  \\\n",
       "3139589                  5.68      947522          USA          NaN   \n",
       "3139609                 8.291      947523          USA          NaN   \n",
       "3139615                 7.957      947524          USA          NaN   \n",
       "3139616                 7.881      708185          USA          NaN   \n",
       "3139642                 7.254      947527          USA          NaN   \n",
       "...                       ...         ...          ...          ...   \n",
       "3601761                 6.813       74573          USA          NaN   \n",
       "3601768                 6.658     1043495          USA          NaN   \n",
       "3601771                 6.372     1043497          USA          NaN   \n",
       "3601774                 6.244     1043498          USA          NaN   \n",
       "3601776                 6.028      816612          USA          NaN   \n",
       "\n",
       "         Start_date    End_date  \n",
       "3139589  14.03.2022  14.03.2022  \n",
       "3139609  12.03.2022  12.03.2022  \n",
       "3139615  12.03.2022  12.03.2022  \n",
       "3139616  12.03.2022  12.03.2022  \n",
       "3139642  12.03.2022  12.03.2022  \n",
       "...             ...         ...  \n",
       "3601761  22.10.2022  22.10.2022  \n",
       "3601768  22.10.2022  22.10.2022  \n",
       "3601771  22.10.2022  22.10.2022  \n",
       "3601774  22.10.2022  22.10.2022  \n",
       "3601776  22.10.2022  22.10.2022  \n",
       "\n",
       "[1801 rows x 12 columns]"
      ]
     },
     "execution_count": 31,
     "metadata": {},
     "output_type": "execute_result"
    }
   ],
   "source": [
    "df_USA_events_2022[df_USA_events_2022['athlete_Age'].isna() == 1]"
   ]
  },
  {
   "cell_type": "markdown",
   "id": "d7fced3b",
   "metadata": {},
   "source": [
    "#### 1801 of althelte's age are missing"
   ]
  },
  {
   "cell_type": "markdown",
   "id": "4040dc7d",
   "metadata": {},
   "source": [
    "### Drop null Values"
   ]
  },
  {
   "cell_type": "code",
   "execution_count": 32,
   "id": "2d0abef9",
   "metadata": {},
   "outputs": [],
   "source": [
    "df_USA_events_2022 = df_USA_events_2022.dropna()"
   ]
  },
  {
   "cell_type": "code",
   "execution_count": 33,
   "id": "6b1c94aa",
   "metadata": {},
   "outputs": [
    {
     "data": {
      "text/html": [
       "<div>\n",
       "<style scoped>\n",
       "    .dataframe tbody tr th:only-of-type {\n",
       "        vertical-align: middle;\n",
       "    }\n",
       "\n",
       "    .dataframe tbody tr th {\n",
       "        vertical-align: top;\n",
       "    }\n",
       "\n",
       "    .dataframe thead th {\n",
       "        text-align: right;\n",
       "    }\n",
       "</style>\n",
       "<table border=\"1\" class=\"dataframe\">\n",
       "  <thead>\n",
       "    <tr style=\"text-align: right;\">\n",
       "      <th></th>\n",
       "      <th>Year of event</th>\n",
       "      <th>Event name</th>\n",
       "      <th>Event distance/length</th>\n",
       "      <th>Event number of finishers</th>\n",
       "      <th>Athlete performance</th>\n",
       "      <th>Athlete gender</th>\n",
       "      <th>Athlete average speed</th>\n",
       "      <th>Athlete ID</th>\n",
       "      <th>Host_Country</th>\n",
       "      <th>athlete_Age</th>\n",
       "      <th>Start_date</th>\n",
       "      <th>End_date</th>\n",
       "    </tr>\n",
       "  </thead>\n",
       "  <tbody>\n",
       "  </tbody>\n",
       "</table>\n",
       "</div>"
      ],
      "text/plain": [
       "Empty DataFrame\n",
       "Columns: [Year of event, Event name, Event distance/length, Event number of finishers, Athlete performance, Athlete gender, Athlete average speed, Athlete ID, Host_Country, athlete_Age, Start_date, End_date]\n",
       "Index: []"
      ]
     },
     "execution_count": 33,
     "metadata": {},
     "output_type": "execute_result"
    }
   ],
   "source": [
    "df_USA_events_2022[df_USA_events_2022['athlete_Age'].isna() == 1]"
   ]
  },
  {
   "cell_type": "markdown",
   "id": "ac432e54",
   "metadata": {},
   "source": [
    "## Check for duplicate values"
   ]
  },
  {
   "cell_type": "code",
   "execution_count": 34,
   "id": "03d4e314",
   "metadata": {},
   "outputs": [
    {
     "data": {
      "text/html": [
       "<div>\n",
       "<style scoped>\n",
       "    .dataframe tbody tr th:only-of-type {\n",
       "        vertical-align: middle;\n",
       "    }\n",
       "\n",
       "    .dataframe tbody tr th {\n",
       "        vertical-align: top;\n",
       "    }\n",
       "\n",
       "    .dataframe thead th {\n",
       "        text-align: right;\n",
       "    }\n",
       "</style>\n",
       "<table border=\"1\" class=\"dataframe\">\n",
       "  <thead>\n",
       "    <tr style=\"text-align: right;\">\n",
       "      <th></th>\n",
       "      <th>Year of event</th>\n",
       "      <th>Event name</th>\n",
       "      <th>Event distance/length</th>\n",
       "      <th>Event number of finishers</th>\n",
       "      <th>Athlete performance</th>\n",
       "      <th>Athlete gender</th>\n",
       "      <th>Athlete average speed</th>\n",
       "      <th>Athlete ID</th>\n",
       "      <th>Host_Country</th>\n",
       "      <th>athlete_Age</th>\n",
       "      <th>Start_date</th>\n",
       "      <th>End_date</th>\n",
       "    </tr>\n",
       "  </thead>\n",
       "  <tbody>\n",
       "  </tbody>\n",
       "</table>\n",
       "</div>"
      ],
      "text/plain": [
       "Empty DataFrame\n",
       "Columns: [Year of event, Event name, Event distance/length, Event number of finishers, Athlete performance, Athlete gender, Athlete average speed, Athlete ID, Host_Country, athlete_Age, Start_date, End_date]\n",
       "Index: []"
      ]
     },
     "execution_count": 34,
     "metadata": {},
     "output_type": "execute_result"
    }
   ],
   "source": [
    "df_USA_events_2022[df_USA_events_2022.duplicated() == True]"
   ]
  },
  {
   "cell_type": "markdown",
   "id": "50168841",
   "metadata": {},
   "source": [
    "#### No Duplicates"
   ]
  },
  {
   "cell_type": "markdown",
   "id": "46c01f90",
   "metadata": {},
   "source": [
    "## Reset index"
   ]
  },
  {
   "cell_type": "code",
   "execution_count": 35,
   "id": "17b6c0c4",
   "metadata": {},
   "outputs": [
    {
     "data": {
      "text/html": [
       "<div>\n",
       "<style scoped>\n",
       "    .dataframe tbody tr th:only-of-type {\n",
       "        vertical-align: middle;\n",
       "    }\n",
       "\n",
       "    .dataframe tbody tr th {\n",
       "        vertical-align: top;\n",
       "    }\n",
       "\n",
       "    .dataframe thead th {\n",
       "        text-align: right;\n",
       "    }\n",
       "</style>\n",
       "<table border=\"1\" class=\"dataframe\">\n",
       "  <thead>\n",
       "    <tr style=\"text-align: right;\">\n",
       "      <th></th>\n",
       "      <th>Year of event</th>\n",
       "      <th>Event name</th>\n",
       "      <th>Event distance/length</th>\n",
       "      <th>Event number of finishers</th>\n",
       "      <th>Athlete performance</th>\n",
       "      <th>Athlete gender</th>\n",
       "      <th>Athlete average speed</th>\n",
       "      <th>Athlete ID</th>\n",
       "      <th>Host_Country</th>\n",
       "      <th>athlete_Age</th>\n",
       "      <th>Start_date</th>\n",
       "      <th>End_date</th>\n",
       "    </tr>\n",
       "  </thead>\n",
       "  <tbody>\n",
       "    <tr>\n",
       "      <th>0</th>\n",
       "      <td>2022</td>\n",
       "      <td>Bel Monte 50 Mile Endurance Run</td>\n",
       "      <td>50mi</td>\n",
       "      <td>49</td>\n",
       "      <td>7:53:36</td>\n",
       "      <td>M</td>\n",
       "      <td>10.194</td>\n",
       "      <td>839364</td>\n",
       "      <td>USA</td>\n",
       "      <td>28.0</td>\n",
       "      <td>12.03.2022</td>\n",
       "      <td>12.03.2022</td>\n",
       "    </tr>\n",
       "    <tr>\n",
       "      <th>1</th>\n",
       "      <td>2022</td>\n",
       "      <td>Bel Monte 50 Mile Endurance Run</td>\n",
       "      <td>50mi</td>\n",
       "      <td>49</td>\n",
       "      <td>8:14:24</td>\n",
       "      <td>M</td>\n",
       "      <td>9.765</td>\n",
       "      <td>366598</td>\n",
       "      <td>USA</td>\n",
       "      <td>32.0</td>\n",
       "      <td>12.03.2022</td>\n",
       "      <td>12.03.2022</td>\n",
       "    </tr>\n",
       "    <tr>\n",
       "      <th>2</th>\n",
       "      <td>2022</td>\n",
       "      <td>Bel Monte 50 Mile Endurance Run</td>\n",
       "      <td>50mi</td>\n",
       "      <td>49</td>\n",
       "      <td>8:19:16</td>\n",
       "      <td>M</td>\n",
       "      <td>9.67</td>\n",
       "      <td>553476</td>\n",
       "      <td>USA</td>\n",
       "      <td>43.0</td>\n",
       "      <td>12.03.2022</td>\n",
       "      <td>12.03.2022</td>\n",
       "    </tr>\n",
       "    <tr>\n",
       "      <th>3</th>\n",
       "      <td>2022</td>\n",
       "      <td>Bel Monte 50 Mile Endurance Run</td>\n",
       "      <td>50mi</td>\n",
       "      <td>49</td>\n",
       "      <td>8:23:49</td>\n",
       "      <td>M</td>\n",
       "      <td>9.583</td>\n",
       "      <td>807555</td>\n",
       "      <td>USA</td>\n",
       "      <td>28.0</td>\n",
       "      <td>12.03.2022</td>\n",
       "      <td>12.03.2022</td>\n",
       "    </tr>\n",
       "    <tr>\n",
       "      <th>4</th>\n",
       "      <td>2022</td>\n",
       "      <td>Bel Monte 50 Mile Endurance Run</td>\n",
       "      <td>50mi</td>\n",
       "      <td>49</td>\n",
       "      <td>8:41:37</td>\n",
       "      <td>M</td>\n",
       "      <td>9.256</td>\n",
       "      <td>947348</td>\n",
       "      <td>USA</td>\n",
       "      <td>25.0</td>\n",
       "      <td>12.03.2022</td>\n",
       "      <td>12.03.2022</td>\n",
       "    </tr>\n",
       "    <tr>\n",
       "      <th>...</th>\n",
       "      <td>...</td>\n",
       "      <td>...</td>\n",
       "      <td>...</td>\n",
       "      <td>...</td>\n",
       "      <td>...</td>\n",
       "      <td>...</td>\n",
       "      <td>...</td>\n",
       "      <td>...</td>\n",
       "      <td>...</td>\n",
       "      <td>...</td>\n",
       "      <td>...</td>\n",
       "      <td>...</td>\n",
       "    </tr>\n",
       "    <tr>\n",
       "      <th>66238</th>\n",
       "      <td>2022</td>\n",
       "      <td>Tussey Mountainback 50 Miler</td>\n",
       "      <td>50mi</td>\n",
       "      <td>35</td>\n",
       "      <td>11:16:08</td>\n",
       "      <td>M</td>\n",
       "      <td>7.141</td>\n",
       "      <td>1044739</td>\n",
       "      <td>USA</td>\n",
       "      <td>54.0</td>\n",
       "      <td>16.10.2022</td>\n",
       "      <td>16.10.2022</td>\n",
       "    </tr>\n",
       "    <tr>\n",
       "      <th>66239</th>\n",
       "      <td>2022</td>\n",
       "      <td>Tussey Mountainback 50 Miler</td>\n",
       "      <td>50mi</td>\n",
       "      <td>35</td>\n",
       "      <td>11:27:05</td>\n",
       "      <td>M</td>\n",
       "      <td>7.027</td>\n",
       "      <td>50971</td>\n",
       "      <td>USA</td>\n",
       "      <td>63.0</td>\n",
       "      <td>16.10.2022</td>\n",
       "      <td>16.10.2022</td>\n",
       "    </tr>\n",
       "    <tr>\n",
       "      <th>66240</th>\n",
       "      <td>2022</td>\n",
       "      <td>Tussey Mountainback 50 Miler</td>\n",
       "      <td>50mi</td>\n",
       "      <td>35</td>\n",
       "      <td>11:46:34</td>\n",
       "      <td>F</td>\n",
       "      <td>6.833</td>\n",
       "      <td>73152</td>\n",
       "      <td>USA</td>\n",
       "      <td>67.0</td>\n",
       "      <td>16.10.2022</td>\n",
       "      <td>16.10.2022</td>\n",
       "    </tr>\n",
       "    <tr>\n",
       "      <th>66241</th>\n",
       "      <td>2022</td>\n",
       "      <td>Tussey Mountainback 50 Miler</td>\n",
       "      <td>50mi</td>\n",
       "      <td>35</td>\n",
       "      <td>11:55:29</td>\n",
       "      <td>M</td>\n",
       "      <td>6.748</td>\n",
       "      <td>970133</td>\n",
       "      <td>USA</td>\n",
       "      <td>57.0</td>\n",
       "      <td>16.10.2022</td>\n",
       "      <td>16.10.2022</td>\n",
       "    </tr>\n",
       "    <tr>\n",
       "      <th>66242</th>\n",
       "      <td>2022</td>\n",
       "      <td>Tussey Mountainback 50 Miler</td>\n",
       "      <td>50mi</td>\n",
       "      <td>35</td>\n",
       "      <td>12:14:15</td>\n",
       "      <td>F</td>\n",
       "      <td>6.575</td>\n",
       "      <td>723380</td>\n",
       "      <td>USA</td>\n",
       "      <td>41.0</td>\n",
       "      <td>16.10.2022</td>\n",
       "      <td>16.10.2022</td>\n",
       "    </tr>\n",
       "  </tbody>\n",
       "</table>\n",
       "<p>66243 rows × 12 columns</p>\n",
       "</div>"
      ],
      "text/plain": [
       "       Year of event                        Event name Event distance/length  \\\n",
       "0               2022  Bel Monte 50 Mile Endurance Run                   50mi   \n",
       "1               2022  Bel Monte 50 Mile Endurance Run                   50mi   \n",
       "2               2022  Bel Monte 50 Mile Endurance Run                   50mi   \n",
       "3               2022  Bel Monte 50 Mile Endurance Run                   50mi   \n",
       "4               2022  Bel Monte 50 Mile Endurance Run                   50mi   \n",
       "...              ...                               ...                   ...   \n",
       "66238           2022     Tussey Mountainback 50 Miler                   50mi   \n",
       "66239           2022     Tussey Mountainback 50 Miler                   50mi   \n",
       "66240           2022     Tussey Mountainback 50 Miler                   50mi   \n",
       "66241           2022     Tussey Mountainback 50 Miler                   50mi   \n",
       "66242           2022     Tussey Mountainback 50 Miler                   50mi   \n",
       "\n",
       "       Event number of finishers Athlete performance Athlete gender  \\\n",
       "0                             49             7:53:36              M   \n",
       "1                             49             8:14:24              M   \n",
       "2                             49             8:19:16              M   \n",
       "3                             49             8:23:49              M   \n",
       "4                             49             8:41:37              M   \n",
       "...                          ...                 ...            ...   \n",
       "66238                         35            11:16:08              M   \n",
       "66239                         35            11:27:05              M   \n",
       "66240                         35            11:46:34              F   \n",
       "66241                         35            11:55:29              M   \n",
       "66242                         35            12:14:15              F   \n",
       "\n",
       "      Athlete average speed  Athlete ID Host_Country  athlete_Age  Start_date  \\\n",
       "0                    10.194      839364          USA         28.0  12.03.2022   \n",
       "1                     9.765      366598          USA         32.0  12.03.2022   \n",
       "2                      9.67      553476          USA         43.0  12.03.2022   \n",
       "3                     9.583      807555          USA         28.0  12.03.2022   \n",
       "4                     9.256      947348          USA         25.0  12.03.2022   \n",
       "...                     ...         ...          ...          ...         ...   \n",
       "66238                 7.141     1044739          USA         54.0  16.10.2022   \n",
       "66239                 7.027       50971          USA         63.0  16.10.2022   \n",
       "66240                 6.833       73152          USA         67.0  16.10.2022   \n",
       "66241                 6.748      970133          USA         57.0  16.10.2022   \n",
       "66242                 6.575      723380          USA         41.0  16.10.2022   \n",
       "\n",
       "         End_date  \n",
       "0      12.03.2022  \n",
       "1      12.03.2022  \n",
       "2      12.03.2022  \n",
       "3      12.03.2022  \n",
       "4      12.03.2022  \n",
       "...           ...  \n",
       "66238  16.10.2022  \n",
       "66239  16.10.2022  \n",
       "66240  16.10.2022  \n",
       "66241  16.10.2022  \n",
       "66242  16.10.2022  \n",
       "\n",
       "[66243 rows x 12 columns]"
      ]
     },
     "execution_count": 35,
     "metadata": {},
     "output_type": "execute_result"
    }
   ],
   "source": [
    "df_USA_events_2022.reset_index(drop = True)"
   ]
  },
  {
   "cell_type": "markdown",
   "id": "f870780f",
   "metadata": {},
   "source": [
    "## Fix data types"
   ]
  },
  {
   "cell_type": "code",
   "execution_count": 36,
   "id": "639bb600",
   "metadata": {},
   "outputs": [
    {
     "data": {
      "text/plain": [
       "Year of event                  int64\n",
       "Event name                    object\n",
       "Event distance/length         object\n",
       "Event number of finishers      int64\n",
       "Athlete performance           object\n",
       "Athlete gender                object\n",
       "Athlete average speed         object\n",
       "Athlete ID                     int64\n",
       "Host_Country                  object\n",
       "athlete_Age                  float64\n",
       "Start_date                    object\n",
       "End_date                      object\n",
       "dtype: object"
      ]
     },
     "execution_count": 36,
     "metadata": {},
     "output_type": "execute_result"
    }
   ],
   "source": [
    "df_USA_events_2022.dtypes"
   ]
  },
  {
   "cell_type": "code",
   "execution_count": 37,
   "id": "b00ff010",
   "metadata": {},
   "outputs": [],
   "source": [
    "df_USA_events_2022['athlete_Age'] = df_USA_events_2022['athlete_Age'].astype(int)"
   ]
  },
  {
   "cell_type": "code",
   "execution_count": 38,
   "id": "75cb9324",
   "metadata": {},
   "outputs": [],
   "source": [
    "df_USA_events_2022['Athlete average speed'] = df_USA_events_2022['Athlete average speed'].astype(float)"
   ]
  },
  {
   "cell_type": "code",
   "execution_count": 39,
   "id": "d096ec71",
   "metadata": {},
   "outputs": [
    {
     "data": {
      "text/plain": [
       "Year of event                  int64\n",
       "Event name                    object\n",
       "Event distance/length         object\n",
       "Event number of finishers      int64\n",
       "Athlete performance           object\n",
       "Athlete gender                object\n",
       "Athlete average speed        float64\n",
       "Athlete ID                     int64\n",
       "Host_Country                  object\n",
       "athlete_Age                    int32\n",
       "Start_date                    object\n",
       "End_date                      object\n",
       "dtype: object"
      ]
     },
     "execution_count": 39,
     "metadata": {},
     "output_type": "execute_result"
    }
   ],
   "source": [
    "df_USA_events_2022.dtypes"
   ]
  },
  {
   "cell_type": "markdown",
   "id": "11c1001e",
   "metadata": {},
   "source": [
    "## Rename column names"
   ]
  },
  {
   "cell_type": "code",
   "execution_count": 40,
   "id": "1c48547f",
   "metadata": {},
   "outputs": [],
   "source": [
    "df_USA_events_2022 = df_USA_events_2022.rename(columns = {'Year of event':'Year',\n",
    "                                                         'Event name':'Race_Name',\n",
    "                                                         'Event distance/length':'Race_Length',\n",
    "                                                         'Event number of finishers':'Race_Number_of_Finishers',\n",
    "                                                         'Athlete performance':'Athlete_Performance',\n",
    "                                                         'Athlete gender':'Athlete_Gender',\n",
    "                                                         'Athlete average speed':'Athlete_Average_Speed',\n",
    "                                                         'Athlete ID':'Athlete_ID',\n",
    "                                                         'athlete_Age':'Athlete_Age'})"
   ]
  },
  {
   "cell_type": "markdown",
   "id": "0a736f7e",
   "metadata": {},
   "source": [
    "## Reorder columns"
   ]
  },
  {
   "cell_type": "code",
   "execution_count": 41,
   "id": "3c0c73d0",
   "metadata": {},
   "outputs": [],
   "source": [
    "df_USA_events_2022 = df_USA_events_2022 [['Year',\n",
    "                                          'Start_date',\n",
    "                                          'End_date',\n",
    "                                          'Race_Name',\n",
    "                                          'Race_Length',\n",
    "                                          'Race_Number_of_Finishers',\n",
    "                                          'Athlete_ID',\n",
    "                                          'Athlete_Gender',\n",
    "                                          'Athlete_Age',\n",
    "                                          'Athlete_Average_Speed',\n",
    "                                         'Athlete_Performance',\n",
    "                                         'Host_Country']]"
   ]
  },
  {
   "cell_type": "markdown",
   "id": "51ea0b30",
   "metadata": {},
   "source": [
    "# Visualizations"
   ]
  },
  {
   "cell_type": "markdown",
   "id": "8edccf55",
   "metadata": {},
   "source": [
    "## 50-100 km v 50-100 Mile "
   ]
  },
  {
   "cell_type": "code",
   "execution_count": 42,
   "id": "bc602907",
   "metadata": {},
   "outputs": [
    {
     "data": {
      "text/plain": [
       "50km     42529\n",
       "50mi     14283\n",
       "100mi     9431\n",
       "Name: Race_Length, dtype: int64"
      ]
     },
     "execution_count": 42,
     "metadata": {},
     "output_type": "execute_result"
    }
   ],
   "source": [
    "df_USA_events_2022['Race_Length'].value_counts()"
   ]
  },
  {
   "cell_type": "markdown",
   "id": "15260074",
   "metadata": {},
   "source": [
    "## Create Histogram of Race Length in Total"
   ]
  },
  {
   "cell_type": "code",
   "execution_count": 44,
   "id": "1e3bf91f",
   "metadata": {
    "scrolled": false
   },
   "outputs": [
    {
     "data": {
      "image/png": "[encoded data removed]",
      "text/plain": [
       "<Figure size 432x288 with 1 Axes>"
      ]
     },
     "metadata": {
      "needs_background": "light"
     },
     "output_type": "display_data"
    }
   ],
   "source": [
    "sns.histplot(data = df_USA_events_2022, x='Race_Length')\n",
    "plt.title('Histogram of Race Length')\n",
    "\n",
    "plt.title('Histogram of Race Length', fontsize=24)\n",
    "\n",
    "plt.xlabel('Race Length', fontsize=18)\n",
    "\n",
    "plt.ylabel('Count', fontsize=18)\n",
    "plt.show()"
   ]
  },
  {
   "cell_type": "markdown",
   "id": "a4e7976c",
   "metadata": {},
   "source": [
    "## Create Histogram of Race Length by Genders"
   ]
  },
  {
   "cell_type": "code",
   "execution_count": 45,
   "id": "d80bf61b",
   "metadata": {},
   "outputs": [
    {
     "data": {
      "image/png": "[encoded data removed]",
      "text/plain": [
       "<Figure size 720x576 with 1 Axes>"
      ]
     },
     "metadata": {
      "needs_background": "light"
     },
     "output_type": "display_data"
    }
   ],
   "source": [
    "# Sort the DataFrame by 'Race_Length' in descending order\n",
    "sorted_df = df_USA_events_2022.sort_values(by='Race_Length', ascending=False)\n",
    "\n",
    "# Create a figure with one subplot for the histogram\n",
    "fig, ax1 = plt.subplots(figsize=(10, 8))\n",
    "\n",
    "# Create the histogram using Seaborn with \"hue\"\n",
    "sns.histplot(data=sorted_df, x='Race_Length', hue='Athlete_Gender', ax=ax1)\n",
    "\n",
    "# Add the count numbers on top of the bars\n",
    "for bar in ax1.patches:\n",
    "    height = bar.get_height()\n",
    "    ax1.text(bar.get_x() + bar.get_width() / 2., height + 0.1, int(height), ha='center', va='bottom')\n",
    "\n",
    "# Set the title for the graph\n",
    "ax1.set_title('Histogram of Race Length by Gender')\n",
    "\n",
    "plt.show()"
   ]
  },
  {
   "cell_type": "code",
   "execution_count": 46,
   "id": "4be35a3d",
   "metadata": {},
   "outputs": [
    {
     "data": {
      "image/png": "[encoded data removed]",
      "text/plain": [
       "<Figure size 432x288 with 1 Axes>"
      ]
     },
     "metadata": {
      "needs_background": "light"
     },
     "output_type": "display_data"
    }
   ],
   "source": [
    "sns.histplot(data = df_USA_events_2022, x='Race_Length')\n",
    "plt.title('Histogram of Race Length')\n",
    "\n",
    "plt.title('Histogram of Race Length', fontsize=24)\n",
    "\n",
    "plt.xlabel('Race Length', fontsize=18)\n",
    "\n",
    "plt.ylabel('Count', fontsize=18)\n",
    "plt.show()"
   ]
  },
  {
   "cell_type": "code",
   "execution_count": 47,
   "id": "c54cc562",
   "metadata": {},
   "outputs": [
    {
     "data": {
      "image/png": "[encoded data removed]",
      "text/plain": [
       "<Figure size 360x360 with 1 Axes>"
      ]
     },
     "metadata": {},
     "output_type": "display_data"
    }
   ],
   "source": [
    "sns.set(rc={'figure.figsize': (20, 12)})\n",
    "\n",
    "sns.displot(data=df_USA_events_2022[df_USA_events_2022['Race_Length'] == '50mi'], x='Athlete_Average_Speed')\n",
    "\n",
    "plt.title('Distribution of Athlete Average Speed in 50 Mile Run', fontsize=18)\n",
    "\n",
    "plt.xlabel('Average_Speed', fontsize=12)\n",
    "xticks = list(range(0, 15, 3))\n",
    "\n",
    "plt.ylabel('Count', fontsize=12)\n",
    "\n",
    "\n",
    "# Show the plot\n",
    "plt.show()"
   ]
  },
  {
   "cell_type": "code",
   "execution_count": 48,
   "id": "1746fec9",
   "metadata": {},
   "outputs": [
    {
     "data": {
      "text/plain": [
       "7.0933802514983535"
      ]
     },
     "execution_count": 48,
     "metadata": {},
     "output_type": "execute_result"
    }
   ],
   "source": [
    "Overall_mean_speed = df_USA_events_2022['Athlete_Average_Speed'].mean()\n",
    "Overall_mean_speed"
   ]
  },
  {
   "cell_type": "code",
   "execution_count": 49,
   "id": "734d82d1",
   "metadata": {},
   "outputs": [
    {
     "data": {
      "image/png": "[encoded data removed]",
      "text/plain": [
       "<Figure size 720x720 with 1 Axes>"
      ]
     },
     "metadata": {},
     "output_type": "display_data"
    }
   ],
   "source": [
    "sns.set(rc={'figure.figsize': (20, 12)})\n",
    "\n",
    "# Create the displot with the modified size\n",
    "plot = sns.displot(data=df_USA_events_2022[df_USA_events_2022['Race_Length'] == '50mi'], x='Athlete_Average_Speed', height=10, aspect=1)\n",
    "\n",
    "plt.axvline(x=Overall_mean_speed, color='r', linestyle = '--', label = 'mean')\n",
    "\n",
    "plt.title('Distribution of Athlete Average Speed in 50 Mile Run', fontsize=18)\n",
    "\n",
    "plt.xlabel('Average_Speed', fontsize=12)\n",
    "\n",
    "plt.ylabel('Count', fontsize=12)\n",
    "\n",
    "plt.legend(bbox_to_anchor=(1.04,1))\n",
    "\n",
    "\n",
    "# Customize the x-axis ticks\n",
    "xticks = list(range(0, 15, 2))  # Define the positions for x-axis labels (every 5 units)\n",
    "xtick_labels = [str(x) for x in xticks]  # Convert positions to labels\n",
    "\n",
    "\n",
    "\n",
    "\n",
    "# Show the plot\n",
    "plt.show()"
   ]
  },
  {
   "cell_type": "markdown",
   "id": "f25472f0",
   "metadata": {},
   "source": [
    "# Questions to Answer Reagrding the UltraMarathoners in 2022 "
   ]
  },
  {
   "cell_type": "markdown",
   "id": "1a092c3a",
   "metadata": {},
   "source": [
    "## Difference in Speed of Males & Females For The 50km, 50mi "
   ]
  },
  {
   "cell_type": "code",
   "execution_count": 50,
   "id": "c0744bb7",
   "metadata": {},
   "outputs": [
    {
     "name": "stdout",
     "output_type": "stream",
     "text": [
      "  Race_Length Athlete_Gender  Athlete_Average_Speed\n",
      "0       100mi              F               5.829741\n",
      "1       100mi              M               5.956413\n",
      "2        50km              F               6.966948\n",
      "3        50km              M               7.562757\n",
      "4        50km              X               8.444000\n",
      "5        50mi              F               6.779096\n",
      "6        50mi              M               7.218046\n"
     ]
    }
   ],
   "source": [
    "# Perform the groupby and calculate the mean\n",
    "grouped = df_USA_events_2022.groupby(['Race_Length', 'Athlete_Gender']) \\\n",
    "['Athlete_Average_Speed'].mean()\n",
    "\n",
    "# Convert the result into a table\n",
    "table = pd.pivot_table(df_USA_events_2022, index=['Race_Length', 'Athlete_Gender'], \n",
    "                       values='Athlete_Average_Speed', aggfunc='mean').reset_index()\n",
    "\n",
    "print(table)"
   ]
  },
  {
   "cell_type": "markdown",
   "id": "7fe11ccd",
   "metadata": {},
   "source": [
    "## Which age groups have the highest average speed score in 50 mile race "
   ]
  },
  {
   "cell_type": "code",
   "execution_count": 51,
   "id": "f0c30981",
   "metadata": {},
   "outputs": [
    {
     "data": {
      "text/html": [
       "<div>\n",
       "<style scoped>\n",
       "    .dataframe tbody tr th:only-of-type {\n",
       "        vertical-align: middle;\n",
       "    }\n",
       "\n",
       "    .dataframe tbody tr th {\n",
       "        vertical-align: top;\n",
       "    }\n",
       "\n",
       "    .dataframe thead th {\n",
       "        text-align: right;\n",
       "    }\n",
       "</style>\n",
       "<table border=\"1\" class=\"dataframe\">\n",
       "  <thead>\n",
       "    <tr style=\"text-align: right;\">\n",
       "      <th></th>\n",
       "      <th>mean</th>\n",
       "      <th>count</th>\n",
       "    </tr>\n",
       "    <tr>\n",
       "      <th>Athlete_Age</th>\n",
       "      <th></th>\n",
       "      <th></th>\n",
       "    </tr>\n",
       "  </thead>\n",
       "  <tbody>\n",
       "    <tr>\n",
       "      <th>19</th>\n",
       "      <td>7.781079</td>\n",
       "      <td>38</td>\n",
       "    </tr>\n",
       "    <tr>\n",
       "      <th>26</th>\n",
       "      <td>7.750676</td>\n",
       "      <td>262</td>\n",
       "    </tr>\n",
       "    <tr>\n",
       "      <th>20</th>\n",
       "      <td>7.633224</td>\n",
       "      <td>67</td>\n",
       "    </tr>\n",
       "    <tr>\n",
       "      <th>32</th>\n",
       "      <td>7.560600</td>\n",
       "      <td>418</td>\n",
       "    </tr>\n",
       "    <tr>\n",
       "      <th>24</th>\n",
       "      <td>7.526565</td>\n",
       "      <td>186</td>\n",
       "    </tr>\n",
       "    <tr>\n",
       "      <th>25</th>\n",
       "      <td>7.477597</td>\n",
       "      <td>206</td>\n",
       "    </tr>\n",
       "    <tr>\n",
       "      <th>28</th>\n",
       "      <td>7.428883</td>\n",
       "      <td>325</td>\n",
       "    </tr>\n",
       "    <tr>\n",
       "      <th>31</th>\n",
       "      <td>7.424462</td>\n",
       "      <td>394</td>\n",
       "    </tr>\n",
       "    <tr>\n",
       "      <th>27</th>\n",
       "      <td>7.418414</td>\n",
       "      <td>256</td>\n",
       "    </tr>\n",
       "    <tr>\n",
       "      <th>21</th>\n",
       "      <td>7.400543</td>\n",
       "      <td>92</td>\n",
       "    </tr>\n",
       "  </tbody>\n",
       "</table>\n",
       "</div>"
      ],
      "text/plain": [
       "                 mean  count\n",
       "Athlete_Age                 \n",
       "19           7.781079     38\n",
       "26           7.750676    262\n",
       "20           7.633224     67\n",
       "32           7.560600    418\n",
       "24           7.526565    186\n",
       "25           7.477597    206\n",
       "28           7.428883    325\n",
       "31           7.424462    394\n",
       "27           7.418414    256\n",
       "21           7.400543     92"
      ]
     },
     "execution_count": 51,
     "metadata": {},
     "output_type": "execute_result"
    }
   ],
   "source": [
    "df_USA_events_2022.query('Race_Length == \"50mi\"') \\\n",
    ".groupby('Athlete_Age')['Athlete_Average_Speed'].agg(['mean','count']) \\\n",
    ".sort_values('mean', ascending =False).query('count>19').head(10)"
   ]
  },
  {
   "cell_type": "markdown",
   "id": "cd040701",
   "metadata": {},
   "source": [
    "## Which age groups have the slowest average speed score in 50 mile race "
   ]
  },
  {
   "cell_type": "code",
   "execution_count": 52,
   "id": "0e107328",
   "metadata": {
    "scrolled": true
   },
   "outputs": [
    {
     "data": {
      "text/html": [
       "<div>\n",
       "<style scoped>\n",
       "    .dataframe tbody tr th:only-of-type {\n",
       "        vertical-align: middle;\n",
       "    }\n",
       "\n",
       "    .dataframe tbody tr th {\n",
       "        vertical-align: top;\n",
       "    }\n",
       "\n",
       "    .dataframe thead th {\n",
       "        text-align: right;\n",
       "    }\n",
       "</style>\n",
       "<table border=\"1\" class=\"dataframe\">\n",
       "  <thead>\n",
       "    <tr style=\"text-align: right;\">\n",
       "      <th></th>\n",
       "      <th>mean</th>\n",
       "      <th>count</th>\n",
       "    </tr>\n",
       "    <tr>\n",
       "      <th>Athlete_Age</th>\n",
       "      <th></th>\n",
       "      <th></th>\n",
       "    </tr>\n",
       "  </thead>\n",
       "  <tbody>\n",
       "    <tr>\n",
       "      <th>68</th>\n",
       "      <td>5.758423</td>\n",
       "      <td>26</td>\n",
       "    </tr>\n",
       "    <tr>\n",
       "      <th>69</th>\n",
       "      <td>5.976714</td>\n",
       "      <td>28</td>\n",
       "    </tr>\n",
       "    <tr>\n",
       "      <th>65</th>\n",
       "      <td>5.990196</td>\n",
       "      <td>51</td>\n",
       "    </tr>\n",
       "    <tr>\n",
       "      <th>67</th>\n",
       "      <td>6.089679</td>\n",
       "      <td>28</td>\n",
       "    </tr>\n",
       "    <tr>\n",
       "      <th>66</th>\n",
       "      <td>6.120250</td>\n",
       "      <td>40</td>\n",
       "    </tr>\n",
       "    <tr>\n",
       "      <th>64</th>\n",
       "      <td>6.263042</td>\n",
       "      <td>71</td>\n",
       "    </tr>\n",
       "    <tr>\n",
       "      <th>63</th>\n",
       "      <td>6.499551</td>\n",
       "      <td>89</td>\n",
       "    </tr>\n",
       "    <tr>\n",
       "      <th>60</th>\n",
       "      <td>6.514132</td>\n",
       "      <td>144</td>\n",
       "    </tr>\n",
       "    <tr>\n",
       "      <th>55</th>\n",
       "      <td>6.590199</td>\n",
       "      <td>211</td>\n",
       "    </tr>\n",
       "    <tr>\n",
       "      <th>56</th>\n",
       "      <td>6.619654</td>\n",
       "      <td>182</td>\n",
       "    </tr>\n",
       "  </tbody>\n",
       "</table>\n",
       "</div>"
      ],
      "text/plain": [
       "                 mean  count\n",
       "Athlete_Age                 \n",
       "68           5.758423     26\n",
       "69           5.976714     28\n",
       "65           5.990196     51\n",
       "67           6.089679     28\n",
       "66           6.120250     40\n",
       "64           6.263042     71\n",
       "63           6.499551     89\n",
       "60           6.514132    144\n",
       "55           6.590199    211\n",
       "56           6.619654    182"
      ]
     },
     "execution_count": 52,
     "metadata": {},
     "output_type": "execute_result"
    }
   ],
   "source": [
    "df_USA_events_2022.query('Race_Length == \"50mi\"') \\\n",
    ".groupby('Athlete_Age')['Athlete_Average_Speed'].agg(['mean','count']) \\\n",
    ".sort_values('mean', ascending =True).query('count>19').head(10)"
   ]
  },
  {
   "cell_type": "markdown",
   "id": "5bef457d",
   "metadata": {},
   "source": [
    "#### In the 50 mile races that occured in 2022 in USA, age group of 19 year olds were on average the fastest runners amoungst every other age group. 68 year olds werre the slowest runners on average."
   ]
  },
  {
   "cell_type": "markdown",
   "id": "6c954002",
   "metadata": {},
   "source": [
    "## Which age groups have the highest average speed score in 50KM race "
   ]
  },
  {
   "cell_type": "code",
   "execution_count": 53,
   "id": "3a22b8fc",
   "metadata": {},
   "outputs": [
    {
     "data": {
      "text/html": [
       "<div>\n",
       "<style scoped>\n",
       "    .dataframe tbody tr th:only-of-type {\n",
       "        vertical-align: middle;\n",
       "    }\n",
       "\n",
       "    .dataframe tbody tr th {\n",
       "        vertical-align: top;\n",
       "    }\n",
       "\n",
       "    .dataframe thead th {\n",
       "        text-align: right;\n",
       "    }\n",
       "</style>\n",
       "<table border=\"1\" class=\"dataframe\">\n",
       "  <thead>\n",
       "    <tr style=\"text-align: right;\">\n",
       "      <th></th>\n",
       "      <th>mean</th>\n",
       "      <th>count</th>\n",
       "    </tr>\n",
       "    <tr>\n",
       "      <th>Athlete_Age</th>\n",
       "      <th></th>\n",
       "      <th></th>\n",
       "    </tr>\n",
       "  </thead>\n",
       "  <tbody>\n",
       "    <tr>\n",
       "      <th>25</th>\n",
       "      <td>8.040827</td>\n",
       "      <td>566</td>\n",
       "    </tr>\n",
       "    <tr>\n",
       "      <th>24</th>\n",
       "      <td>8.005877</td>\n",
       "      <td>487</td>\n",
       "    </tr>\n",
       "    <tr>\n",
       "      <th>22</th>\n",
       "      <td>7.958292</td>\n",
       "      <td>277</td>\n",
       "    </tr>\n",
       "    <tr>\n",
       "      <th>19</th>\n",
       "      <td>7.917549</td>\n",
       "      <td>91</td>\n",
       "    </tr>\n",
       "    <tr>\n",
       "      <th>23</th>\n",
       "      <td>7.894259</td>\n",
       "      <td>351</td>\n",
       "    </tr>\n",
       "    <tr>\n",
       "      <th>26</th>\n",
       "      <td>7.872757</td>\n",
       "      <td>699</td>\n",
       "    </tr>\n",
       "    <tr>\n",
       "      <th>27</th>\n",
       "      <td>7.843038</td>\n",
       "      <td>819</td>\n",
       "    </tr>\n",
       "    <tr>\n",
       "      <th>18</th>\n",
       "      <td>7.788680</td>\n",
       "      <td>50</td>\n",
       "    </tr>\n",
       "    <tr>\n",
       "      <th>31</th>\n",
       "      <td>7.767189</td>\n",
       "      <td>1172</td>\n",
       "    </tr>\n",
       "    <tr>\n",
       "      <th>29</th>\n",
       "      <td>7.743538</td>\n",
       "      <td>984</td>\n",
       "    </tr>\n",
       "  </tbody>\n",
       "</table>\n",
       "</div>"
      ],
      "text/plain": [
       "                 mean  count\n",
       "Athlete_Age                 \n",
       "25           8.040827    566\n",
       "24           8.005877    487\n",
       "22           7.958292    277\n",
       "19           7.917549     91\n",
       "23           7.894259    351\n",
       "26           7.872757    699\n",
       "27           7.843038    819\n",
       "18           7.788680     50\n",
       "31           7.767189   1172\n",
       "29           7.743538    984"
      ]
     },
     "execution_count": 53,
     "metadata": {},
     "output_type": "execute_result"
    }
   ],
   "source": [
    "df_USA_events_2022.query('Race_Length == \"50km\"') \\\n",
    ".groupby('Athlete_Age')['Athlete_Average_Speed'].agg(['mean','count']) \\\n",
    ".sort_values('mean', ascending =False).query('count>19').head(10)"
   ]
  },
  {
   "cell_type": "markdown",
   "id": "4ffd9769",
   "metadata": {},
   "source": [
    "## Which age groups have the slowest average speed score in 50KM race "
   ]
  },
  {
   "cell_type": "code",
   "execution_count": 54,
   "id": "55cb3c92",
   "metadata": {
    "scrolled": true
   },
   "outputs": [
    {
     "data": {
      "text/html": [
       "<div>\n",
       "<style scoped>\n",
       "    .dataframe tbody tr th:only-of-type {\n",
       "        vertical-align: middle;\n",
       "    }\n",
       "\n",
       "    .dataframe tbody tr th {\n",
       "        vertical-align: top;\n",
       "    }\n",
       "\n",
       "    .dataframe thead th {\n",
       "        text-align: right;\n",
       "    }\n",
       "</style>\n",
       "<table border=\"1\" class=\"dataframe\">\n",
       "  <thead>\n",
       "    <tr style=\"text-align: right;\">\n",
       "      <th></th>\n",
       "      <th>mean</th>\n",
       "      <th>count</th>\n",
       "    </tr>\n",
       "    <tr>\n",
       "      <th>Athlete_Age</th>\n",
       "      <th></th>\n",
       "      <th></th>\n",
       "    </tr>\n",
       "  </thead>\n",
       "  <tbody>\n",
       "    <tr>\n",
       "      <th>71</th>\n",
       "      <td>5.959507</td>\n",
       "      <td>71</td>\n",
       "    </tr>\n",
       "    <tr>\n",
       "      <th>75</th>\n",
       "      <td>6.005857</td>\n",
       "      <td>28</td>\n",
       "    </tr>\n",
       "    <tr>\n",
       "      <th>73</th>\n",
       "      <td>6.044640</td>\n",
       "      <td>50</td>\n",
       "    </tr>\n",
       "    <tr>\n",
       "      <th>69</th>\n",
       "      <td>6.099855</td>\n",
       "      <td>110</td>\n",
       "    </tr>\n",
       "    <tr>\n",
       "      <th>74</th>\n",
       "      <td>6.181968</td>\n",
       "      <td>31</td>\n",
       "    </tr>\n",
       "    <tr>\n",
       "      <th>68</th>\n",
       "      <td>6.264952</td>\n",
       "      <td>124</td>\n",
       "    </tr>\n",
       "    <tr>\n",
       "      <th>70</th>\n",
       "      <td>6.268319</td>\n",
       "      <td>94</td>\n",
       "    </tr>\n",
       "    <tr>\n",
       "      <th>67</th>\n",
       "      <td>6.276692</td>\n",
       "      <td>159</td>\n",
       "    </tr>\n",
       "    <tr>\n",
       "      <th>72</th>\n",
       "      <td>6.337925</td>\n",
       "      <td>53</td>\n",
       "    </tr>\n",
       "    <tr>\n",
       "      <th>65</th>\n",
       "      <td>6.353303</td>\n",
       "      <td>185</td>\n",
       "    </tr>\n",
       "  </tbody>\n",
       "</table>\n",
       "</div>"
      ],
      "text/plain": [
       "                 mean  count\n",
       "Athlete_Age                 \n",
       "71           5.959507     71\n",
       "75           6.005857     28\n",
       "73           6.044640     50\n",
       "69           6.099855    110\n",
       "74           6.181968     31\n",
       "68           6.264952    124\n",
       "70           6.268319     94\n",
       "67           6.276692    159\n",
       "72           6.337925     53\n",
       "65           6.353303    185"
      ]
     },
     "execution_count": 54,
     "metadata": {},
     "output_type": "execute_result"
    }
   ],
   "source": [
    "df_USA_events_2022.query('Race_Length == \"50km\"') \\\n",
    ".groupby('Athlete_Age')['Athlete_Average_Speed'].agg(['mean','count']) \\\n",
    ".sort_values('mean', ascending =True).query('count>19').head(10)"
   ]
  },
  {
   "cell_type": "markdown",
   "id": "531918a8",
   "metadata": {},
   "source": [
    "#### There were 566 25 year old that participated in a 50 KM run in the USA and on average they were the fastest out of other age groups. An inspiring 71 people particpated in a 50 KM runs, who were 71 years old, and they average speeds were the lowest amoungst all other age groups."
   ]
  },
  {
   "cell_type": "markdown",
   "id": "fb56cd2c",
   "metadata": {},
   "source": [
    "## Which age groups have the highest average speed score in 100 mile race \n"
   ]
  },
  {
   "cell_type": "code",
   "execution_count": 55,
   "id": "1355b10c",
   "metadata": {},
   "outputs": [
    {
     "data": {
      "text/html": [
       "<div>\n",
       "<style scoped>\n",
       "    .dataframe tbody tr th:only-of-type {\n",
       "        vertical-align: middle;\n",
       "    }\n",
       "\n",
       "    .dataframe tbody tr th {\n",
       "        vertical-align: top;\n",
       "    }\n",
       "\n",
       "    .dataframe thead th {\n",
       "        text-align: right;\n",
       "    }\n",
       "</style>\n",
       "<table border=\"1\" class=\"dataframe\">\n",
       "  <thead>\n",
       "    <tr style=\"text-align: right;\">\n",
       "      <th></th>\n",
       "      <th>mean</th>\n",
       "      <th>count</th>\n",
       "    </tr>\n",
       "    <tr>\n",
       "      <th>Athlete_Age</th>\n",
       "      <th></th>\n",
       "      <th></th>\n",
       "    </tr>\n",
       "  </thead>\n",
       "  <tbody>\n",
       "    <tr>\n",
       "      <th>31</th>\n",
       "      <td>6.278260</td>\n",
       "      <td>204</td>\n",
       "    </tr>\n",
       "    <tr>\n",
       "      <th>26</th>\n",
       "      <td>6.247811</td>\n",
       "      <td>106</td>\n",
       "    </tr>\n",
       "    <tr>\n",
       "      <th>25</th>\n",
       "      <td>6.238792</td>\n",
       "      <td>72</td>\n",
       "    </tr>\n",
       "    <tr>\n",
       "      <th>29</th>\n",
       "      <td>6.228077</td>\n",
       "      <td>168</td>\n",
       "    </tr>\n",
       "    <tr>\n",
       "      <th>27</th>\n",
       "      <td>6.186673</td>\n",
       "      <td>104</td>\n",
       "    </tr>\n",
       "    <tr>\n",
       "      <th>30</th>\n",
       "      <td>6.168005</td>\n",
       "      <td>189</td>\n",
       "    </tr>\n",
       "    <tr>\n",
       "      <th>32</th>\n",
       "      <td>6.114579</td>\n",
       "      <td>233</td>\n",
       "    </tr>\n",
       "    <tr>\n",
       "      <th>38</th>\n",
       "      <td>6.114063</td>\n",
       "      <td>331</td>\n",
       "    </tr>\n",
       "    <tr>\n",
       "      <th>36</th>\n",
       "      <td>6.090886</td>\n",
       "      <td>299</td>\n",
       "    </tr>\n",
       "    <tr>\n",
       "      <th>35</th>\n",
       "      <td>6.084490</td>\n",
       "      <td>288</td>\n",
       "    </tr>\n",
       "  </tbody>\n",
       "</table>\n",
       "</div>"
      ],
      "text/plain": [
       "                 mean  count\n",
       "Athlete_Age                 \n",
       "31           6.278260    204\n",
       "26           6.247811    106\n",
       "25           6.238792     72\n",
       "29           6.228077    168\n",
       "27           6.186673    104\n",
       "30           6.168005    189\n",
       "32           6.114579    233\n",
       "38           6.114063    331\n",
       "36           6.090886    299\n",
       "35           6.084490    288"
      ]
     },
     "execution_count": 55,
     "metadata": {},
     "output_type": "execute_result"
    }
   ],
   "source": [
    "df_USA_events_2022.query('Race_Length == \"100mi\"') \\\n",
    ".groupby('Athlete_Age')['Athlete_Average_Speed'].agg(['mean','count']) \\\n",
    ".sort_values('mean', ascending =False).query('count>19').head(10)"
   ]
  },
  {
   "cell_type": "markdown",
   "id": "bb45013c",
   "metadata": {},
   "source": [
    "## Which age groups have the slowest average speed score in 100 mile race "
   ]
  },
  {
   "cell_type": "code",
   "execution_count": 56,
   "id": "0495da02",
   "metadata": {},
   "outputs": [
    {
     "data": {
      "text/html": [
       "<div>\n",
       "<style scoped>\n",
       "    .dataframe tbody tr th:only-of-type {\n",
       "        vertical-align: middle;\n",
       "    }\n",
       "\n",
       "    .dataframe tbody tr th {\n",
       "        vertical-align: top;\n",
       "    }\n",
       "\n",
       "    .dataframe thead th {\n",
       "        text-align: right;\n",
       "    }\n",
       "</style>\n",
       "<table border=\"1\" class=\"dataframe\">\n",
       "  <thead>\n",
       "    <tr style=\"text-align: right;\">\n",
       "      <th></th>\n",
       "      <th>mean</th>\n",
       "      <th>count</th>\n",
       "    </tr>\n",
       "    <tr>\n",
       "      <th>Athlete_Age</th>\n",
       "      <th></th>\n",
       "      <th></th>\n",
       "    </tr>\n",
       "  </thead>\n",
       "  <tbody>\n",
       "    <tr>\n",
       "      <th>65</th>\n",
       "      <td>4.994480</td>\n",
       "      <td>25</td>\n",
       "    </tr>\n",
       "    <tr>\n",
       "      <th>70</th>\n",
       "      <td>5.301792</td>\n",
       "      <td>24</td>\n",
       "    </tr>\n",
       "    <tr>\n",
       "      <th>63</th>\n",
       "      <td>5.456407</td>\n",
       "      <td>59</td>\n",
       "    </tr>\n",
       "    <tr>\n",
       "      <th>64</th>\n",
       "      <td>5.462210</td>\n",
       "      <td>62</td>\n",
       "    </tr>\n",
       "    <tr>\n",
       "      <th>61</th>\n",
       "      <td>5.504960</td>\n",
       "      <td>101</td>\n",
       "    </tr>\n",
       "    <tr>\n",
       "      <th>62</th>\n",
       "      <td>5.505509</td>\n",
       "      <td>57</td>\n",
       "    </tr>\n",
       "    <tr>\n",
       "      <th>60</th>\n",
       "      <td>5.617517</td>\n",
       "      <td>118</td>\n",
       "    </tr>\n",
       "    <tr>\n",
       "      <th>59</th>\n",
       "      <td>5.626454</td>\n",
       "      <td>108</td>\n",
       "    </tr>\n",
       "    <tr>\n",
       "      <th>58</th>\n",
       "      <td>5.671540</td>\n",
       "      <td>87</td>\n",
       "    </tr>\n",
       "    <tr>\n",
       "      <th>22</th>\n",
       "      <td>5.683700</td>\n",
       "      <td>40</td>\n",
       "    </tr>\n",
       "  </tbody>\n",
       "</table>\n",
       "</div>"
      ],
      "text/plain": [
       "                 mean  count\n",
       "Athlete_Age                 \n",
       "65           4.994480     25\n",
       "70           5.301792     24\n",
       "63           5.456407     59\n",
       "64           5.462210     62\n",
       "61           5.504960    101\n",
       "62           5.505509     57\n",
       "60           5.617517    118\n",
       "59           5.626454    108\n",
       "58           5.671540     87\n",
       "22           5.683700     40"
      ]
     },
     "execution_count": 56,
     "metadata": {},
     "output_type": "execute_result"
    }
   ],
   "source": [
    "df_USA_events_2022.query('Race_Length == \"100mi\"') \\\n",
    ".groupby('Athlete_Age')['Athlete_Average_Speed'].agg(['mean','count']) \\\n",
    ".sort_values('mean', ascending =True).query('count>19').head(10)"
   ]
  },
  {
   "cell_type": "markdown",
   "id": "c2ef3365",
   "metadata": {},
   "source": [
    "## Does the season of the event affect the speed of the athletes? "
   ]
  },
  {
   "cell_type": "code",
   "execution_count": 57,
   "id": "1c8f5efc",
   "metadata": {},
   "outputs": [],
   "source": [
    "# encoding the season with the following:\n",
    "\n",
    "## spring: 3-5\n",
    "## summer: 6-8\n",
    "## fall: 9-11\n",
    "## winter 12-2"
   ]
  },
  {
   "cell_type": "markdown",
   "id": "fe075ab8",
   "metadata": {},
   "source": [
    "### Split the race month number from strat date"
   ]
  },
  {
   "cell_type": "code",
   "execution_count": 58,
   "id": "bd83dbaf",
   "metadata": {},
   "outputs": [],
   "source": [
    "df_USA_events_2022['Race_Month'] = df_USA_events_2022['Start_date'].str.split('.').str.get(1).astype(int)"
   ]
  },
  {
   "cell_type": "code",
   "execution_count": 59,
   "id": "95197bff",
   "metadata": {},
   "outputs": [],
   "source": [
    "df_USA_events_2022['Race_Season'] = df_USA_events_2022['Race_Month'] \\\n",
    ".apply(lambda x: 'Winter' if x > 11 else 'Fall' if x > 8 else 'Summer' if x > 5 else 'Spring' if x > 2 else 'Winter')"
   ]
  },
  {
   "cell_type": "code",
   "execution_count": 60,
   "id": "584e8096",
   "metadata": {},
   "outputs": [
    {
     "data": {
      "text/html": [
       "<div>\n",
       "<style scoped>\n",
       "    .dataframe tbody tr th:only-of-type {\n",
       "        vertical-align: middle;\n",
       "    }\n",
       "\n",
       "    .dataframe tbody tr th {\n",
       "        vertical-align: top;\n",
       "    }\n",
       "\n",
       "    .dataframe thead th {\n",
       "        text-align: right;\n",
       "    }\n",
       "</style>\n",
       "<table border=\"1\" class=\"dataframe\">\n",
       "  <thead>\n",
       "    <tr style=\"text-align: right;\">\n",
       "      <th></th>\n",
       "      <th>Year</th>\n",
       "      <th>Start_date</th>\n",
       "      <th>End_date</th>\n",
       "      <th>Race_Name</th>\n",
       "      <th>Race_Length</th>\n",
       "      <th>Race_Number_of_Finishers</th>\n",
       "      <th>Athlete_ID</th>\n",
       "      <th>Athlete_Gender</th>\n",
       "      <th>Athlete_Age</th>\n",
       "      <th>Athlete_Average_Speed</th>\n",
       "      <th>Athlete_Performance</th>\n",
       "      <th>Host_Country</th>\n",
       "      <th>Race_Month</th>\n",
       "      <th>Race_Season</th>\n",
       "    </tr>\n",
       "  </thead>\n",
       "  <tbody>\n",
       "    <tr>\n",
       "      <th>3138208</th>\n",
       "      <td>2022</td>\n",
       "      <td>12.03.2022</td>\n",
       "      <td>12.03.2022</td>\n",
       "      <td>Bel Monte 50 Mile Endurance Run</td>\n",
       "      <td>50mi</td>\n",
       "      <td>49</td>\n",
       "      <td>839364</td>\n",
       "      <td>M</td>\n",
       "      <td>28</td>\n",
       "      <td>10.194</td>\n",
       "      <td>7:53:36</td>\n",
       "      <td>USA</td>\n",
       "      <td>3</td>\n",
       "      <td>Spring</td>\n",
       "    </tr>\n",
       "    <tr>\n",
       "      <th>3138209</th>\n",
       "      <td>2022</td>\n",
       "      <td>12.03.2022</td>\n",
       "      <td>12.03.2022</td>\n",
       "      <td>Bel Monte 50 Mile Endurance Run</td>\n",
       "      <td>50mi</td>\n",
       "      <td>49</td>\n",
       "      <td>366598</td>\n",
       "      <td>M</td>\n",
       "      <td>32</td>\n",
       "      <td>9.765</td>\n",
       "      <td>8:14:24</td>\n",
       "      <td>USA</td>\n",
       "      <td>3</td>\n",
       "      <td>Spring</td>\n",
       "    </tr>\n",
       "    <tr>\n",
       "      <th>3138210</th>\n",
       "      <td>2022</td>\n",
       "      <td>12.03.2022</td>\n",
       "      <td>12.03.2022</td>\n",
       "      <td>Bel Monte 50 Mile Endurance Run</td>\n",
       "      <td>50mi</td>\n",
       "      <td>49</td>\n",
       "      <td>553476</td>\n",
       "      <td>M</td>\n",
       "      <td>43</td>\n",
       "      <td>9.670</td>\n",
       "      <td>8:19:16</td>\n",
       "      <td>USA</td>\n",
       "      <td>3</td>\n",
       "      <td>Spring</td>\n",
       "    </tr>\n",
       "    <tr>\n",
       "      <th>3138211</th>\n",
       "      <td>2022</td>\n",
       "      <td>12.03.2022</td>\n",
       "      <td>12.03.2022</td>\n",
       "      <td>Bel Monte 50 Mile Endurance Run</td>\n",
       "      <td>50mi</td>\n",
       "      <td>49</td>\n",
       "      <td>807555</td>\n",
       "      <td>M</td>\n",
       "      <td>28</td>\n",
       "      <td>9.583</td>\n",
       "      <td>8:23:49</td>\n",
       "      <td>USA</td>\n",
       "      <td>3</td>\n",
       "      <td>Spring</td>\n",
       "    </tr>\n",
       "    <tr>\n",
       "      <th>3138212</th>\n",
       "      <td>2022</td>\n",
       "      <td>12.03.2022</td>\n",
       "      <td>12.03.2022</td>\n",
       "      <td>Bel Monte 50 Mile Endurance Run</td>\n",
       "      <td>50mi</td>\n",
       "      <td>49</td>\n",
       "      <td>947348</td>\n",
       "      <td>M</td>\n",
       "      <td>25</td>\n",
       "      <td>9.256</td>\n",
       "      <td>8:41:37</td>\n",
       "      <td>USA</td>\n",
       "      <td>3</td>\n",
       "      <td>Spring</td>\n",
       "    </tr>\n",
       "    <tr>\n",
       "      <th>...</th>\n",
       "      <td>...</td>\n",
       "      <td>...</td>\n",
       "      <td>...</td>\n",
       "      <td>...</td>\n",
       "      <td>...</td>\n",
       "      <td>...</td>\n",
       "      <td>...</td>\n",
       "      <td>...</td>\n",
       "      <td>...</td>\n",
       "      <td>...</td>\n",
       "      <td>...</td>\n",
       "      <td>...</td>\n",
       "      <td>...</td>\n",
       "      <td>...</td>\n",
       "    </tr>\n",
       "    <tr>\n",
       "      <th>3609801</th>\n",
       "      <td>2022</td>\n",
       "      <td>16.10.2022</td>\n",
       "      <td>16.10.2022</td>\n",
       "      <td>Tussey Mountainback 50 Miler</td>\n",
       "      <td>50mi</td>\n",
       "      <td>35</td>\n",
       "      <td>1044739</td>\n",
       "      <td>M</td>\n",
       "      <td>54</td>\n",
       "      <td>7.141</td>\n",
       "      <td>11:16:08</td>\n",
       "      <td>USA</td>\n",
       "      <td>10</td>\n",
       "      <td>Fall</td>\n",
       "    </tr>\n",
       "    <tr>\n",
       "      <th>3609802</th>\n",
       "      <td>2022</td>\n",
       "      <td>16.10.2022</td>\n",
       "      <td>16.10.2022</td>\n",
       "      <td>Tussey Mountainback 50 Miler</td>\n",
       "      <td>50mi</td>\n",
       "      <td>35</td>\n",
       "      <td>50971</td>\n",
       "      <td>M</td>\n",
       "      <td>63</td>\n",
       "      <td>7.027</td>\n",
       "      <td>11:27:05</td>\n",
       "      <td>USA</td>\n",
       "      <td>10</td>\n",
       "      <td>Fall</td>\n",
       "    </tr>\n",
       "    <tr>\n",
       "      <th>3609803</th>\n",
       "      <td>2022</td>\n",
       "      <td>16.10.2022</td>\n",
       "      <td>16.10.2022</td>\n",
       "      <td>Tussey Mountainback 50 Miler</td>\n",
       "      <td>50mi</td>\n",
       "      <td>35</td>\n",
       "      <td>73152</td>\n",
       "      <td>F</td>\n",
       "      <td>67</td>\n",
       "      <td>6.833</td>\n",
       "      <td>11:46:34</td>\n",
       "      <td>USA</td>\n",
       "      <td>10</td>\n",
       "      <td>Fall</td>\n",
       "    </tr>\n",
       "    <tr>\n",
       "      <th>3609804</th>\n",
       "      <td>2022</td>\n",
       "      <td>16.10.2022</td>\n",
       "      <td>16.10.2022</td>\n",
       "      <td>Tussey Mountainback 50 Miler</td>\n",
       "      <td>50mi</td>\n",
       "      <td>35</td>\n",
       "      <td>970133</td>\n",
       "      <td>M</td>\n",
       "      <td>57</td>\n",
       "      <td>6.748</td>\n",
       "      <td>11:55:29</td>\n",
       "      <td>USA</td>\n",
       "      <td>10</td>\n",
       "      <td>Fall</td>\n",
       "    </tr>\n",
       "    <tr>\n",
       "      <th>3609805</th>\n",
       "      <td>2022</td>\n",
       "      <td>16.10.2022</td>\n",
       "      <td>16.10.2022</td>\n",
       "      <td>Tussey Mountainback 50 Miler</td>\n",
       "      <td>50mi</td>\n",
       "      <td>35</td>\n",
       "      <td>723380</td>\n",
       "      <td>F</td>\n",
       "      <td>41</td>\n",
       "      <td>6.575</td>\n",
       "      <td>12:14:15</td>\n",
       "      <td>USA</td>\n",
       "      <td>10</td>\n",
       "      <td>Fall</td>\n",
       "    </tr>\n",
       "  </tbody>\n",
       "</table>\n",
       "<p>66243 rows × 14 columns</p>\n",
       "</div>"
      ],
      "text/plain": [
       "         Year  Start_date    End_date                         Race_Name  \\\n",
       "3138208  2022  12.03.2022  12.03.2022  Bel Monte 50 Mile Endurance Run    \n",
       "3138209  2022  12.03.2022  12.03.2022  Bel Monte 50 Mile Endurance Run    \n",
       "3138210  2022  12.03.2022  12.03.2022  Bel Monte 50 Mile Endurance Run    \n",
       "3138211  2022  12.03.2022  12.03.2022  Bel Monte 50 Mile Endurance Run    \n",
       "3138212  2022  12.03.2022  12.03.2022  Bel Monte 50 Mile Endurance Run    \n",
       "...       ...         ...         ...                               ...   \n",
       "3609801  2022  16.10.2022  16.10.2022     Tussey Mountainback 50 Miler    \n",
       "3609802  2022  16.10.2022  16.10.2022     Tussey Mountainback 50 Miler    \n",
       "3609803  2022  16.10.2022  16.10.2022     Tussey Mountainback 50 Miler    \n",
       "3609804  2022  16.10.2022  16.10.2022     Tussey Mountainback 50 Miler    \n",
       "3609805  2022  16.10.2022  16.10.2022     Tussey Mountainback 50 Miler    \n",
       "\n",
       "        Race_Length  Race_Number_of_Finishers  Athlete_ID Athlete_Gender  \\\n",
       "3138208        50mi                        49      839364              M   \n",
       "3138209        50mi                        49      366598              M   \n",
       "3138210        50mi                        49      553476              M   \n",
       "3138211        50mi                        49      807555              M   \n",
       "3138212        50mi                        49      947348              M   \n",
       "...             ...                       ...         ...            ...   \n",
       "3609801        50mi                        35     1044739              M   \n",
       "3609802        50mi                        35       50971              M   \n",
       "3609803        50mi                        35       73152              F   \n",
       "3609804        50mi                        35      970133              M   \n",
       "3609805        50mi                        35      723380              F   \n",
       "\n",
       "         Athlete_Age  Athlete_Average_Speed Athlete_Performance Host_Country  \\\n",
       "3138208           28                 10.194             7:53:36          USA   \n",
       "3138209           32                  9.765             8:14:24          USA   \n",
       "3138210           43                  9.670             8:19:16          USA   \n",
       "3138211           28                  9.583             8:23:49          USA   \n",
       "3138212           25                  9.256             8:41:37          USA   \n",
       "...              ...                    ...                 ...          ...   \n",
       "3609801           54                  7.141            11:16:08          USA   \n",
       "3609802           63                  7.027            11:27:05          USA   \n",
       "3609803           67                  6.833            11:46:34          USA   \n",
       "3609804           57                  6.748            11:55:29          USA   \n",
       "3609805           41                  6.575            12:14:15          USA   \n",
       "\n",
       "         Race_Month Race_Season  \n",
       "3138208           3      Spring  \n",
       "3138209           3      Spring  \n",
       "3138210           3      Spring  \n",
       "3138211           3      Spring  \n",
       "3138212           3      Spring  \n",
       "...             ...         ...  \n",
       "3609801          10        Fall  \n",
       "3609802          10        Fall  \n",
       "3609803          10        Fall  \n",
       "3609804          10        Fall  \n",
       "3609805          10        Fall  \n",
       "\n",
       "[66243 rows x 14 columns]"
      ]
     },
     "execution_count": 60,
     "metadata": {},
     "output_type": "execute_result"
    }
   ],
   "source": [
    "df_USA_events_2022"
   ]
  },
  {
   "cell_type": "markdown",
   "id": "d91f3be7",
   "metadata": {},
   "source": [
    "## Average athlete speed and number of races in different season (overall)"
   ]
  },
  {
   "cell_type": "code",
   "execution_count": 61,
   "id": "3296a2dd",
   "metadata": {},
   "outputs": [
    {
     "data": {
      "text/html": [
       "<div>\n",
       "<style scoped>\n",
       "    .dataframe tbody tr th:only-of-type {\n",
       "        vertical-align: middle;\n",
       "    }\n",
       "\n",
       "    .dataframe tbody tr th {\n",
       "        vertical-align: top;\n",
       "    }\n",
       "\n",
       "    .dataframe thead th {\n",
       "        text-align: right;\n",
       "    }\n",
       "</style>\n",
       "<table border=\"1\" class=\"dataframe\">\n",
       "  <thead>\n",
       "    <tr style=\"text-align: right;\">\n",
       "      <th></th>\n",
       "      <th>mean</th>\n",
       "      <th>count</th>\n",
       "    </tr>\n",
       "    <tr>\n",
       "      <th>Race_Season</th>\n",
       "      <th></th>\n",
       "      <th></th>\n",
       "    </tr>\n",
       "  </thead>\n",
       "  <tbody>\n",
       "    <tr>\n",
       "      <th>Winter</th>\n",
       "      <td>7.563729</td>\n",
       "      <td>9910</td>\n",
       "    </tr>\n",
       "    <tr>\n",
       "      <th>Spring</th>\n",
       "      <td>7.176918</td>\n",
       "      <td>19214</td>\n",
       "    </tr>\n",
       "    <tr>\n",
       "      <th>Fall</th>\n",
       "      <td>7.056963</td>\n",
       "      <td>21515</td>\n",
       "    </tr>\n",
       "    <tr>\n",
       "      <th>Summer</th>\n",
       "      <td>6.742013</td>\n",
       "      <td>15604</td>\n",
       "    </tr>\n",
       "  </tbody>\n",
       "</table>\n",
       "</div>"
      ],
      "text/plain": [
       "                 mean  count\n",
       "Race_Season                 \n",
       "Winter       7.563729   9910\n",
       "Spring       7.176918  19214\n",
       "Fall         7.056963  21515\n",
       "Summer       6.742013  15604"
      ]
     },
     "execution_count": 61,
     "metadata": {},
     "output_type": "execute_result"
    }
   ],
   "source": [
    "df_USA_events_2022.groupby('Race_Season')['Athlete_Average_Speed'].agg(['mean','count']).sort_values('mean', ascending = False)"
   ]
  },
  {
   "cell_type": "markdown",
   "id": "c2202f54",
   "metadata": {},
   "source": [
    "## Average athlete speed and number of races in different season (50 miles)"
   ]
  },
  {
   "cell_type": "code",
   "execution_count": 62,
   "id": "8d709ca8",
   "metadata": {},
   "outputs": [
    {
     "data": {
      "text/html": [
       "<div>\n",
       "<style scoped>\n",
       "    .dataframe tbody tr th:only-of-type {\n",
       "        vertical-align: middle;\n",
       "    }\n",
       "\n",
       "    .dataframe tbody tr th {\n",
       "        vertical-align: top;\n",
       "    }\n",
       "\n",
       "    .dataframe thead th {\n",
       "        text-align: right;\n",
       "    }\n",
       "</style>\n",
       "<table border=\"1\" class=\"dataframe\">\n",
       "  <thead>\n",
       "    <tr style=\"text-align: right;\">\n",
       "      <th></th>\n",
       "      <th>mean</th>\n",
       "      <th>count</th>\n",
       "    </tr>\n",
       "    <tr>\n",
       "      <th>Race_Season</th>\n",
       "      <th></th>\n",
       "      <th></th>\n",
       "    </tr>\n",
       "  </thead>\n",
       "  <tbody>\n",
       "    <tr>\n",
       "      <th>Winter</th>\n",
       "      <td>7.361231</td>\n",
       "      <td>1570</td>\n",
       "    </tr>\n",
       "    <tr>\n",
       "      <th>Fall</th>\n",
       "      <td>7.301296</td>\n",
       "      <td>4600</td>\n",
       "    </tr>\n",
       "    <tr>\n",
       "      <th>Spring</th>\n",
       "      <td>7.071688</td>\n",
       "      <td>4433</td>\n",
       "    </tr>\n",
       "    <tr>\n",
       "      <th>Summer</th>\n",
       "      <td>6.722977</td>\n",
       "      <td>3680</td>\n",
       "    </tr>\n",
       "  </tbody>\n",
       "</table>\n",
       "</div>"
      ],
      "text/plain": [
       "                 mean  count\n",
       "Race_Season                 \n",
       "Winter       7.361231   1570\n",
       "Fall         7.301296   4600\n",
       "Spring       7.071688   4433\n",
       "Summer       6.722977   3680"
      ]
     },
     "execution_count": 62,
     "metadata": {},
     "output_type": "execute_result"
    }
   ],
   "source": [
    "df_USA_events_2022.query('Race_Length == \"50mi\"').groupby('Race_Season')['Athlete_Average_Speed'].agg(['mean','count']).sort_values('mean', ascending = False)"
   ]
  },
  {
   "cell_type": "markdown",
   "id": "6b3ac9f0",
   "metadata": {},
   "source": [
    "## Average athlete speed and number of races in different season (50km)"
   ]
  },
  {
   "cell_type": "code",
   "execution_count": 63,
   "id": "2f62b945",
   "metadata": {},
   "outputs": [
    {
     "data": {
      "text/html": [
       "<div>\n",
       "<style scoped>\n",
       "    .dataframe tbody tr th:only-of-type {\n",
       "        vertical-align: middle;\n",
       "    }\n",
       "\n",
       "    .dataframe tbody tr th {\n",
       "        vertical-align: top;\n",
       "    }\n",
       "\n",
       "    .dataframe thead th {\n",
       "        text-align: right;\n",
       "    }\n",
       "</style>\n",
       "<table border=\"1\" class=\"dataframe\">\n",
       "  <thead>\n",
       "    <tr style=\"text-align: right;\">\n",
       "      <th></th>\n",
       "      <th>mean</th>\n",
       "      <th>count</th>\n",
       "    </tr>\n",
       "    <tr>\n",
       "      <th>Race_Season</th>\n",
       "      <th></th>\n",
       "      <th></th>\n",
       "    </tr>\n",
       "  </thead>\n",
       "  <tbody>\n",
       "    <tr>\n",
       "      <th>Winter</th>\n",
       "      <td>7.811382</td>\n",
       "      <td>7243</td>\n",
       "    </tr>\n",
       "    <tr>\n",
       "      <th>Spring</th>\n",
       "      <td>7.353396</td>\n",
       "      <td>13364</td>\n",
       "    </tr>\n",
       "    <tr>\n",
       "      <th>Fall</th>\n",
       "      <td>7.272038</td>\n",
       "      <td>13169</td>\n",
       "    </tr>\n",
       "    <tr>\n",
       "      <th>Summer</th>\n",
       "      <td>7.102110</td>\n",
       "      <td>8753</td>\n",
       "    </tr>\n",
       "  </tbody>\n",
       "</table>\n",
       "</div>"
      ],
      "text/plain": [
       "                 mean  count\n",
       "Race_Season                 \n",
       "Winter       7.811382   7243\n",
       "Spring       7.353396  13364\n",
       "Fall         7.272038  13169\n",
       "Summer       7.102110   8753"
      ]
     },
     "execution_count": 63,
     "metadata": {},
     "output_type": "execute_result"
    }
   ],
   "source": [
    "df_USA_events_2022.query('Race_Length == \"50km\"').groupby('Race_Season')['Athlete_Average_Speed'].agg(['mean','count']).sort_values('mean', ascending = False)"
   ]
  },
  {
   "cell_type": "markdown",
   "id": "f64e08d5",
   "metadata": {},
   "source": [
    "## Average athlete speed and number of races in different season (100mi)"
   ]
  },
  {
   "cell_type": "code",
   "execution_count": 64,
   "id": "253a2f26",
   "metadata": {
    "scrolled": true
   },
   "outputs": [
    {
     "data": {
      "text/html": [
       "<div>\n",
       "<style scoped>\n",
       "    .dataframe tbody tr th:only-of-type {\n",
       "        vertical-align: middle;\n",
       "    }\n",
       "\n",
       "    .dataframe tbody tr th {\n",
       "        vertical-align: top;\n",
       "    }\n",
       "\n",
       "    .dataframe thead th {\n",
       "        text-align: right;\n",
       "    }\n",
       "</style>\n",
       "<table border=\"1\" class=\"dataframe\">\n",
       "  <thead>\n",
       "    <tr style=\"text-align: right;\">\n",
       "      <th></th>\n",
       "      <th>mean</th>\n",
       "      <th>count</th>\n",
       "    </tr>\n",
       "    <tr>\n",
       "      <th>Race_Season</th>\n",
       "      <th></th>\n",
       "      <th></th>\n",
       "    </tr>\n",
       "  </thead>\n",
       "  <tbody>\n",
       "    <tr>\n",
       "      <th>Winter</th>\n",
       "      <td>6.218396</td>\n",
       "      <td>1097</td>\n",
       "    </tr>\n",
       "    <tr>\n",
       "      <th>Fall</th>\n",
       "      <td>6.000835</td>\n",
       "      <td>3746</td>\n",
       "    </tr>\n",
       "    <tr>\n",
       "      <th>Spring</th>\n",
       "      <td>5.841723</td>\n",
       "      <td>1417</td>\n",
       "    </tr>\n",
       "    <tr>\n",
       "      <th>Summer</th>\n",
       "      <td>5.770119</td>\n",
       "      <td>3171</td>\n",
       "    </tr>\n",
       "  </tbody>\n",
       "</table>\n",
       "</div>"
      ],
      "text/plain": [
       "                 mean  count\n",
       "Race_Season                 \n",
       "Winter       6.218396   1097\n",
       "Fall         6.000835   3746\n",
       "Spring       5.841723   1417\n",
       "Summer       5.770119   3171"
      ]
     },
     "execution_count": 64,
     "metadata": {},
     "output_type": "execute_result"
    }
   ],
   "source": [
    "df_USA_events_2022.query('Race_Length == \"100mi\"').groupby('Race_Season')['Athlete_Average_Speed'].agg(['mean','count']).sort_values('mean', ascending = False)"
   ]
  },
  {
   "cell_type": "markdown",
   "id": "85165c8d",
   "metadata": {},
   "source": [
    "#### On average an atlethe's speed is higher during Winter and lowest during Summer. This is due to weather condition being more suitble for a run during winter "
   ]
  },
  {
   "cell_type": "code",
   "execution_count": 71,
   "id": "7e17c023",
   "metadata": {},
   "outputs": [],
   "source": [
    "# Export the DataFrame to a CSV file\n",
    "df_USA_events_2022.to_csv('USA_Events_2022.csv', index= False)  "
   ]
  },
  {
   "cell_type": "code",
   "execution_count": null,
   "id": "13228ecd",
   "metadata": {},
   "outputs": [],
   "source": []
  }
 ],
 "metadata": {
  "kernelspec": {
   "display_name": "Python 3",
   "language": "python",
   "name": "python3"
  },
  "language_info": {
   "codemirror_mode": {
    "name": "ipython",
    "version": 3
   },
   "file_extension": ".py",
   "mimetype": "text/x-python",
   "name": "python",
   "nbconvert_exporter": "python",
   "pygments_lexer": "ipython3",
   "version": "3.8.8"
  }
 },
 "nbformat": 4,
 "nbformat_minor": 5
}
